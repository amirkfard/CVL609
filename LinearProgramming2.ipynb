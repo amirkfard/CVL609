{
 "cells": [
  {
   "cell_type": "markdown",
   "metadata": {},
   "source": [
    "# CVL609 (Civil Engineering Systems) Tutorial - Week 3 \n",
    "\n",
    "#### Note: You can access the colab version of this notebook [here](https://colab.research.google.com/github/amirkfard/CVL609/blob/main/LinearProgramming2.ipynb) .\n",
    "\n",
    "#### Solving Linear Programming optimization problems using OR-Tools\n",
    "\n"
   ]
  },
  {
   "cell_type": "code",
   "execution_count": 2,
   "metadata": {},
   "outputs": [
    {
     "name": "stdout",
     "output_type": "stream",
     "text": [
      "Requirement already satisfied: ortools in c:\\users\\amir\\appdata\\roaming\\python\\python37\\site-packages (9.2.9972)\n",
      "Requirement already satisfied: numpy>=1.13.3 in c:\\users\\amir\\anaconda3\\lib\\site-packages (from ortools) (1.18.5)\n",
      "Requirement already satisfied: protobuf>=3.19.1 in c:\\users\\amir\\appdata\\roaming\\python\\python37\\site-packages (from ortools) (3.19.3)\n",
      "Requirement already satisfied: absl-py>=0.13 in c:\\users\\amir\\appdata\\roaming\\python\\python37\\site-packages (from ortools) (1.0.0)\n",
      "Requirement already satisfied: six in c:\\users\\amir\\anaconda3\\lib\\site-packages (from absl-py>=0.13->ortools) (1.15.0)\n",
      "Note: you may need to restart the kernel to use updated packages.\n"
     ]
    },
    {
     "name": "stderr",
     "output_type": "stream",
     "text": [
      "WARNING: Ignoring invalid distribution -umpy (c:\\users\\amir\\anaconda3\\lib\\site-packages)\n",
      "WARNING: Ignoring invalid distribution -ensorflow-gpu (c:\\users\\amir\\anaconda3\\lib\\site-packages)\n",
      "WARNING: Ignoring invalid distribution -umpy (c:\\users\\amir\\anaconda3\\lib\\site-packages)\n",
      "WARNING: Ignoring invalid distribution -ensorflow-gpu (c:\\users\\amir\\anaconda3\\lib\\site-packages)\n",
      "WARNING: Ignoring invalid distribution -umpy (c:\\users\\amir\\anaconda3\\lib\\site-packages)\n",
      "WARNING: Ignoring invalid distribution -ensorflow-gpu (c:\\users\\amir\\anaconda3\\lib\\site-packages)\n",
      "WARNING: Ignoring invalid distribution -umpy (c:\\users\\amir\\anaconda3\\lib\\site-packages)\n",
      "WARNING: Ignoring invalid distribution -ensorflow-gpu (c:\\users\\amir\\anaconda3\\lib\\site-packages)\n",
      "WARNING: Ignoring invalid distribution -umpy (c:\\users\\amir\\anaconda3\\lib\\site-packages)\n",
      "WARNING: Ignoring invalid distribution -ensorflow-gpu (c:\\users\\amir\\anaconda3\\lib\\site-packages)\n"
     ]
    }
   ],
   "source": [
    "pip install --upgrade --user ortools"
   ]
  },
  {
   "cell_type": "markdown",
   "metadata": {},
   "source": [
    "## Mine Working Days"
   ]
  },
  {
   "cell_type": "markdown",
   "metadata": {},
   "source": [
    "<img src=\"img/lp_2_11.webp\" width=\"700\">\n",
    "<img src=\"img/lp_2_12.webp\" width=\"700\">\n",
    "<img src=\"img/lp_2_13.webp\" width=\"700\">\n",
    "<img src=\"img/lp_2_14.webp\" width=\"700\">\n",
    "<img src=\"img/lp_2_15.webp\" width=\"700\">\n"
   ]
  },
  {
   "cell_type": "code",
   "execution_count": 7,
   "metadata": {},
   "outputs": [],
   "source": [
    "from ortools.linear_solver import pywraplp\n",
    "\n",
    "def MineDays():\n",
    "    \"\"\"Linear programming sample.\"\"\"\n",
    "    # Instantiate a Glop solver.\n",
    "    solver = pywraplp.Solver.CreateSolver('GLOP')\n",
    "\n",
    "    # Create the two variables and define their bounds.\n",
    "    x1 = solver.NumVar(0, 5, 'x1')\n",
    "    x2 = solver.NumVar(0, 5, 'x2')\n",
    "\n",
    "    print('Number of variables =', solver.NumVariables())\n",
    "\n",
    "    # Constraint 0: 40 x1 + 15 x2 >= 100.\n",
    "    solver.Add(40 * x1 + 15 * x2 >= 100.0)\n",
    "    \n",
    "    # Constraint 0: 14 x1 + 35 x2 >= 100.\n",
    "    solver.Add(14 * x1 + 35* x2 >= 140.0)\n",
    "\n",
    "\n",
    "    print('Number of constraints =', solver.NumConstraints())\n",
    "\n",
    "    # Objective function: Min 20000 x1 + 10000 x2.\n",
    "    solver.Minimize(3 * x1 + 9 * x2)\n",
    "\n",
    "    # Solve the system.\n",
    "    status = solver.Solve()\n",
    "\n",
    "    if status == pywraplp.Solver.OPTIMAL:\n",
    "        print('Solution:')\n",
    "        print('Objective value =', solver.Objective().Value())\n",
    "        print('x1 =', x1.solution_value())\n",
    "        print('x2 =', x2.solution_value())\n",
    "    else:\n",
    "        print('The problem does not have an optimal solution.')\n",
    "\n",
    "    print('\\nAdvanced usage:')\n",
    "    print('Problem solved in %f milliseconds' % solver.wall_time())\n",
    "    print('Problem solved in %d iterations' % solver.iterations())\n",
    "\n",
    "\n"
   ]
  },
  {
   "cell_type": "code",
   "execution_count": 8,
   "metadata": {},
   "outputs": [
    {
     "name": "stdout",
     "output_type": "stream",
     "text": [
      "Number of variables = 2\n",
      "Number of constraints = 2\n",
      "Solution:\n",
      "Objective value = 33.0\n",
      "x1 = 5.0\n",
      "x2 = 2.0\n",
      "\n",
      "Advanced usage:\n",
      "Problem solved in 0.000000 milliseconds\n",
      "Problem solved in 3 iterations\n"
     ]
    }
   ],
   "source": [
    "MineDays()"
   ]
  },
  {
   "cell_type": "markdown",
   "metadata": {},
   "source": [
    "### Graphical Solution\n",
    "<img src=\"img/lp_2_16.webp\" width=\"700\">\n",
    "<img src=\"img/lp_2_17.webp\" width=\"700\">"
   ]
  },
  {
   "cell_type": "markdown",
   "metadata": {},
   "source": [
    "## Air Polution"
   ]
  },
  {
   "cell_type": "markdown",
   "metadata": {},
   "source": [
    "<img src=\"img/lp_2_31.webp\" width=\"700\">\n",
    "<img src=\"img/lp_2_32.webp\" width=\"700\">\n",
    "<img src=\"img/lp_2_33.webp\" width=\"700\">"
   ]
  },
  {
   "cell_type": "code",
   "execution_count": 9,
   "metadata": {},
   "outputs": [],
   "source": [
    "from ortools.linear_solver import pywraplp\n",
    "\n",
    "def airpolution():\n",
    "    \"\"\"Linear programming sample.\"\"\"\n",
    "    # Instantiate a Glop solver.\n",
    "\n",
    "    \n",
    "    solver = pywraplp.Solver.CreateSolver('GLOP')\n",
    "\n",
    "    # Create the two variables and define their bounds.\n",
    "    x1 = solver.NumVar(0 , solver.infinity() , 'x1')\n",
    "    x2 = solver.NumVar(0, solver.infinity(), 'x2')\n",
    "\n",
    "    print('Number of variables =', solver.NumVariables())\n",
    "\n",
    "    # Constraint 0: .\n",
    "    solver.Add(0.0075 * (12000-x1) + 0.0025 * (20000-x2) <= 50)\n",
    "    \n",
    "    # Constraint 1: .\n",
    "    solver.Add(0.0025 * (12000-x1) + 0.0075 * (20000-x2) <= 50)\n",
    "\n",
    "\n",
    "    print('Number of constraints =', solver.NumConstraints())\n",
    "\n",
    "    # Objective function: \n",
    "    solver.Minimize(1000 * x1 + 1000 * x2)\n",
    "\n",
    "    # Solve the system.\n",
    "    status = solver.Solve()\n",
    "\n",
    "    if status == pywraplp.Solver.OPTIMAL:\n",
    "        print('Solution:')\n",
    "        print('Objective value =', solver.Objective().Value())\n",
    "        print('x1 =', round(x1.solution_value(),2))\n",
    "        print('x2 =', round(x2.solution_value(),2))\n",
    "\n",
    "    else:\n",
    "        print('The problem does not have an optimal solution.')\n",
    "\n",
    "    print('\\nAdvanced usage:')\n",
    "    print('Problem solved in %f milliseconds' % solver.wall_time())\n",
    "    print('Problem solved in %d iterations' % solver.iterations())\n",
    "\n",
    "\n"
   ]
  },
  {
   "cell_type": "code",
   "execution_count": 10,
   "metadata": {},
   "outputs": [
    {
     "name": "stdout",
     "output_type": "stream",
     "text": [
      "Number of variables = 2\n",
      "Number of constraints = 2\n",
      "Solution:\n",
      "Objective value = 22000000.000000004\n",
      "x1 = 7000.0\n",
      "x2 = 15000.0\n",
      "\n",
      "Advanced usage:\n",
      "Problem solved in 1.000000 milliseconds\n",
      "Problem solved in 2 iterations\n"
     ]
    }
   ],
   "source": [
    "airpolution()"
   ]
  },
  {
   "cell_type": "code",
   "execution_count": null,
   "metadata": {},
   "outputs": [],
   "source": []
  },
  {
   "cell_type": "markdown",
   "metadata": {},
   "source": [
    "## Paint Production"
   ]
  },
  {
   "cell_type": "markdown",
   "metadata": {},
   "source": [
    "<img src=\"img/lp_2_21.webp\" width=\"700\">\n",
    "<img src=\"img/lp_2_22.webp\" width=\"700\">\n",
    "<img src=\"img/lp_2_23.webp\" width=\"700\">\n",
    "<img src=\"img/lp_2_24.webp\" width=\"700\">\n",
    "<img src=\"img/lp_2_25.webp\" width=\"700\">\n",
    "<img src=\"img/lp_2_26.webp\" width=\"700\">"
   ]
  },
  {
   "cell_type": "code",
   "execution_count": 11,
   "metadata": {},
   "outputs": [],
   "source": [
    "from ortools.linear_solver import pywraplp\n",
    "\n",
    "def paint():\n",
    "    \"\"\"Linear programming sample.\"\"\"\n",
    "    # Instantiate a Glop solver.\n",
    "    solver = pywraplp.Solver.CreateSolver('GLOP')\n",
    "\n",
    "    # Create the two variables and define their bounds.\n",
    "    AE = solver.NumVar(0, solver.infinity(), 'AE')\n",
    "    AS = solver.NumVar(0, solver.infinity(), 'AS')\n",
    "    BE = solver.NumVar(0, solver.infinity(), 'BE')\n",
    "    BS = solver.NumVar(0, solver.infinity(), 'BS')\n",
    "    CE = solver.NumVar(0, solver.infinity(), 'CE')\n",
    "    CS = solver.NumVar(0, solver.infinity(), 'CS')\n",
    "\n",
    "    print('Number of variables =', solver.NumVariables())\n",
    "\n",
    "    # Constraint 0: \n",
    "    solver.Add(0.8 * AE -0.2 * BE - 0.2 * CE >= 0.0)\n",
    "    \n",
    "    # Constraint 1: \n",
    "    solver.Add(0.5 * AS -0.5 * BS - 0.5 * CS >= 0.0)\n",
    "    \n",
    "    # Constraint 2: \n",
    "    solver.Add(-0.2 * AS +0.8 * BS - 0.2 * CS >= 0.0)\n",
    "    \n",
    "    # Constraint 3: \n",
    "    solver.Add(-0.6 * AE -0.6 * BE + 0.4 * CE <= 0.0)\n",
    "    \n",
    "    # Constraint 4: \n",
    "    solver.Add( AE + AS <= 2000.0)\n",
    "\n",
    "    # Constraint 5: \n",
    "    solver.Add( BE + BS <= 1500.0)\n",
    "\n",
    "    # Constraint 6: \n",
    "    solver.Add( CE + CS <= 3000.0)\n",
    "    \n",
    "\n",
    "    print('Number of constraints =', solver.NumConstraints())\n",
    "\n",
    "    # Objective function: \n",
    "    solver.Maximize(12.5 * AS + 6.5 * AE + 13.0 * BS + 7.0 * BE + 14.0 * CS + 8.0 * CE )\n",
    "\n",
    "    # Solve the system.\n",
    "    status = solver.Solve()\n",
    "\n",
    "    if status == pywraplp.Solver.OPTIMAL:\n",
    "        print('Solution:')\n",
    "        print('Objective value =', solver.Objective().Value())\n",
    "        print('AE =', AE.solution_value())\n",
    "        print('AS =', AS.solution_value())\n",
    "        print('BE =', BE.solution_value())\n",
    "        print('BS =', BS.solution_value())\n",
    "        print('CE =', CE.solution_value())\n",
    "        print('CS =', CS.solution_value())\n",
    "    else:\n",
    "        print('The problem does not have an optimal solution.')\n",
    "\n",
    "    print('\\nAdvanced usage:')\n",
    "    print('Problem solved in %f milliseconds' % solver.wall_time())\n",
    "    print('Problem solved in %d iterations' % solver.iterations())\n",
    "\n",
    "\n"
   ]
  },
  {
   "cell_type": "code",
   "execution_count": 12,
   "metadata": {},
   "outputs": [
    {
     "name": "stdout",
     "output_type": "stream",
     "text": [
      "Number of variables = 6\n",
      "Number of constraints = 7\n",
      "Solution:\n",
      "Objective value = 61500.0\n",
      "AE = 833.3333333333333\n",
      "AS = 1166.6666666666665\n",
      "BE = 1033.3333333333335\n",
      "BS = 466.66666666666663\n",
      "CE = 2300.0000000000005\n",
      "CS = 700.0\n",
      "\n",
      "Advanced usage:\n",
      "Problem solved in 0.000000 milliseconds\n",
      "Problem solved in 7 iterations\n"
     ]
    }
   ],
   "source": [
    "paint()"
   ]
  },
  {
   "cell_type": "code",
   "execution_count": null,
   "metadata": {},
   "outputs": [],
   "source": []
  }
 ],
 "metadata": {
  "kernelspec": {
   "display_name": "Python 3",
   "language": "python",
   "name": "python3"
  },
  "language_info": {
   "codemirror_mode": {
    "name": "ipython",
    "version": 3
   },
   "file_extension": ".py",
   "mimetype": "text/x-python",
   "name": "python",
   "nbconvert_exporter": "python",
   "pygments_lexer": "ipython3",
   "version": "3.7.6"
  }
 },
 "nbformat": 4,
 "nbformat_minor": 4
}
