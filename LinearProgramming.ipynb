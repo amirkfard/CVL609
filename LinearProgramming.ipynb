{
 "cells": [
  {
   "cell_type": "markdown",
   "metadata": {},
   "source": [
    "# CVL609 (Civil Engineering Systems) Tutorial - Week 2 \n",
    "\n",
    "In this tutorial, you will learn how to use Google OR-Tools python library to model and solve linear programming optimization problems.\n",
    "The following explanations are adopted from OR-Tools website (https://developers.google.com/optimization).\n",
    "\n"
   ]
  },
  {
   "cell_type": "markdown",
   "metadata": {},
   "source": [
    "## Linear Optimization\n",
    "Linear optimization (or *linear programming*) is the name given to computing the best solution to a problem modeled as a set of linear relationships. These problems arise in many scientific and engineering disciplines. (The word \"programming\" is a bit of a misnomer, similar to how \"computer\" once meant \"a person who computes.\" Here, \"programming\" refers to the arrangement of a plan, rather than programming in a computer language.)"
   ]
  },
  {
   "cell_type": "markdown",
   "metadata": {},
   "source": [
    "## Install OR-Tools for Python\n",
    "The fastest way to get OR-Tools is to install the Python binary version. If you already have Python (version 3.6+ on Linux, Mac OS or Windows), and the Python package manager PIP, you can install OR-Tools as follows:"
   ]
  },
  {
   "cell_type": "code",
   "execution_count": null,
   "metadata": {},
   "outputs": [],
   "source": [
    "pip install --upgrade --user ortools"
   ]
  },
  {
   "attachments": {},
   "cell_type": "markdown",
   "metadata": {},
   "source": [
    "## Required Steps for Solving an LP Problem with OR-Tools ([ref.](https://developers.google.com/optimization/lp/lp_example))\n",
    "The following sections present an example of an LP problem and show how to solve it. Here's the problem:\n",
    "\n",
    "__Maximize $3x + 4y$__ subject to the following constraints:\n",
    "\n",
    "$x + 2y\t≤\t14$\n",
    "\n",
    "$3x – y\t≥\t0$\n",
    "\n",
    "$x – y\t≤\t2$\n",
    "\n",
    "Both the objective function, $3x + 4y$, and the constraints are given by linear expressions, which makes this a linear problem.\n",
    "\n",
    "The constraints define the feasible region, which is the triangle shown below, including its interior.\n",
    "\n",
    "<img src=\"https://developers.google.com/optimization/images/lp/feasible_region.png\" width=\"600\">\n",
    "\n",
    "### Basic steps for solving an LP problem\n",
    "\n",
    "To solve a LP problem, your program should include the following steps:\n",
    "\n",
    "1. Import the linear solver wrapper,\n",
    "2. declare the LP solver,\n",
    "3. define the variables,\n",
    "4. define the constraints,\n",
    "5. define the objective,\n",
    "6. call the LP solver; and\n",
    "7. display the solution\n"
   ]
  },
  {
   "cell_type": "markdown",
   "metadata": {},
   "source": [
    "#### 1. Import the linear solver wrapper\n",
    "Import (or include) the OR-Tools linear solver wrapper, an interface for MIP solvers and linear solvers, as shown below.\n"
   ]
  },
  {
   "cell_type": "code",
   "execution_count": 27,
   "metadata": {},
   "outputs": [],
   "source": [
    "from ortools.linear_solver import pywraplp"
   ]
  },
  {
   "cell_type": "markdown",
   "metadata": {},
   "source": [
    "#### 2. Declare the LP solver\n",
    "`MPsolver` is a wrapper for several different solvers, including Glop. The code below declares the GLOP solver.\n"
   ]
  },
  {
   "cell_type": "code",
   "execution_count": 28,
   "metadata": {},
   "outputs": [],
   "source": [
    "solver = pywraplp.Solver.CreateSolver('GLOP')"
   ]
  },
  {
   "cell_type": "markdown",
   "metadata": {},
   "source": [
    "#### 3. Create the variables\n",
    "First, create variables x and y whose values are in the range from 0 to infinity."
   ]
  },
  {
   "cell_type": "code",
   "execution_count": 29,
   "metadata": {},
   "outputs": [
    {
     "name": "stdout",
     "output_type": "stream",
     "text": [
      "Number of variables = 2\n"
     ]
    }
   ],
   "source": [
    "x = solver.NumVar(0, solver.infinity(), 'x')\n",
    "y = solver.NumVar(0, solver.infinity(), 'y')\n",
    "\n",
    "print('Number of variables =', solver.NumVariables())"
   ]
  },
  {
   "cell_type": "markdown",
   "metadata": {},
   "source": [
    "#### 4. Define the constraints\n",
    "Next, define the constraints on the variables. Give each constraint a unique name (such as constraint0), and then define the coefficients for the constraint."
   ]
  },
  {
   "cell_type": "code",
   "execution_count": 30,
   "metadata": {},
   "outputs": [
    {
     "name": "stdout",
     "output_type": "stream",
     "text": [
      "Number of constraints = 3\n"
     ]
    }
   ],
   "source": [
    "# Constraint 0: x + 2y <= 14.\n",
    "solver.Add(x + 2 * y <= 14.0)\n",
    "\n",
    "# Constraint 1: 3x - y >= 0.\n",
    "solver.Add(3 * x - y >= 0.0)\n",
    "\n",
    "# Constraint 2: x - y <= 2.\n",
    "solver.Add(x - y <= 2.0)\n",
    "\n",
    "print('Number of constraints =', solver.NumConstraints())"
   ]
  },
  {
   "cell_type": "markdown",
   "metadata": {},
   "source": [
    "#### 5. Define the objective function\n",
    "The following code defines the objective function, $3x + 4y$, and specifies that this is a maximization problem.\n"
   ]
  },
  {
   "cell_type": "code",
   "execution_count": 31,
   "metadata": {},
   "outputs": [],
   "source": [
    "# Objective function: 3x + 4y.\n",
    "solver.Maximize(3 * x + 4 * y)"
   ]
  },
  {
   "cell_type": "markdown",
   "metadata": {},
   "source": [
    "#### 6. Call the solver\n",
    "The following code invokes the solver.\n"
   ]
  },
  {
   "cell_type": "code",
   "execution_count": 32,
   "metadata": {},
   "outputs": [],
   "source": [
    "status = solver.Solve()"
   ]
  },
  {
   "cell_type": "markdown",
   "metadata": {},
   "source": [
    "#### 7. Display the solution\n",
    "The following code displays the solution.\n"
   ]
  },
  {
   "cell_type": "code",
   "execution_count": 33,
   "metadata": {},
   "outputs": [
    {
     "name": "stdout",
     "output_type": "stream",
     "text": [
      "Solution:\n",
      "Objective value = 33.99999999999999\n",
      "x = 5.999999999999998\n",
      "y = 3.9999999999999996\n"
     ]
    }
   ],
   "source": [
    "if status == pywraplp.Solver.OPTIMAL:\n",
    "    print('Solution:')\n",
    "    print('Objective value =', solver.Objective().Value())\n",
    "    print('x =', x.solution_value())\n",
    "    print('y =', y.solution_value())\n",
    "else:\n",
    "    print('The problem does not have an optimal solution.')"
   ]
  },
  {
   "attachments": {},
   "cell_type": "markdown",
   "metadata": {},
   "source": [
    "\n",
    "\n",
    "Here is a graph showing the solution:\n",
    "\n",
    "The dashed green line is defined by setting the objective function equal to its optimal value of 34. Any line whose equation has the form 3x + 4y = c is parallel to the dashed line, and 34 is the largest value of c for which the line intersects the feasible region.\n",
    "<img src=\"https://developers.google.com/optimization/images/lp/feasible_region_solution.png\" width=\"600\">\n",
    "\n",
    "\n"
   ]
  },
  {
   "cell_type": "markdown",
   "metadata": {},
   "source": [
    "#### The complete code\n",
    "The complete programs are shown below.\n"
   ]
  },
  {
   "cell_type": "code",
   "execution_count": 34,
   "metadata": {},
   "outputs": [
    {
     "name": "stdout",
     "output_type": "stream",
     "text": [
      "Number of variables = 2\n",
      "Number of constraints = 3\n",
      "Solution:\n",
      "Objective value = 33.99999999999999\n",
      "x = 5.999999999999998\n",
      "y = 3.9999999999999996\n",
      "\n",
      "Advanced usage:\n",
      "Problem solved in 1.000000 milliseconds\n",
      "Problem solved in 2 iterations\n"
     ]
    }
   ],
   "source": [
    "\n",
    "def LinearProgrammingExample():\n",
    "    \"\"\"Linear programming sample.\"\"\"\n",
    "    # Instantiate a Glop solver, naming it LinearExample.\n",
    "    solver = pywraplp.Solver.CreateSolver('GLOP')\n",
    "\n",
    "    # Create the two variables and let them take on any non-negative value.\n",
    "    x = solver.NumVar(0, solver.infinity(), 'x')\n",
    "    y = solver.NumVar(0, solver.infinity(), 'y')\n",
    "\n",
    "    print('Number of variables =', solver.NumVariables())\n",
    "\n",
    "    # Constraint 0: x + 2y <= 14.\n",
    "    solver.Add(x + 2 * y <= 14.0)\n",
    "\n",
    "    # Constraint 1: 3x - y >= 0.\n",
    "    solver.Add(3 * x - y >= 0.0)\n",
    "\n",
    "    # Constraint 2: x - y <= 2.\n",
    "    solver.Add(x - y <= 2.0)\n",
    "\n",
    "    print('Number of constraints =', solver.NumConstraints())\n",
    "\n",
    "    # Objective function: 3x + 4y.\n",
    "    solver.Maximize(3 * x + 4 * y)\n",
    "\n",
    "    # Solve the system.\n",
    "    status = solver.Solve()\n",
    "\n",
    "    if status == pywraplp.Solver.OPTIMAL:\n",
    "        print('Solution:')\n",
    "        print('Objective value =', solver.Objective().Value())\n",
    "        print('x =', x.solution_value())\n",
    "        print('y =', y.solution_value())\n",
    "    else:\n",
    "        print('The problem does not have an optimal solution.')\n",
    "\n",
    "    print('\\nAdvanced usage:')\n",
    "    print('Problem solved in %f milliseconds' % solver.wall_time())\n",
    "    print('Problem solved in %d iterations' % solver.iterations())\n",
    "\n",
    "\n",
    "LinearProgrammingExample()"
   ]
  },
  {
   "cell_type": "markdown",
   "metadata": {},
   "source": [
    "## Example 2 - Water Source"
   ]
  },
  {
   "cell_type": "markdown",
   "metadata": {},
   "source": [
    "<img src=\"img/2_problem.webp\" width=\"800\">\n",
    "<img src=\"img/2_table.webp\" width=\"600\">\n",
    "<img src=\"img/2_model.webp\" width=\"800\">"
   ]
  },
  {
   "cell_type": "code",
   "execution_count": 1,
   "metadata": {},
   "outputs": [
    {
     "name": "stdout",
     "output_type": "stream",
     "text": [
      "Number of variables = 3\n",
      "Number of constraints = 2\n",
      "Solution:\n",
      "Objective value = 206906.25\n",
      "x1 = 25.5\n",
      "x2 = 54.84375\n",
      "x3 = 69.65625\n",
      "\n",
      "Advanced usage:\n",
      "Problem solved in 1.000000 milliseconds\n",
      "Problem solved in 0 iterations\n"
     ]
    }
   ],
   "source": [
    "from ortools.linear_solver import pywraplp\n",
    "\n",
    "def WaterSourceExample():\n",
    "    \"\"\"Linear programming sample.\"\"\"\n",
    "    # Instantiate a Glop solver, naming it LinearExample1.\n",
    "    solver = pywraplp.Solver.CreateSolver('GLOP')\n",
    "\n",
    "    # Create the three variables and define their bounds.\n",
    "    x1 = solver.NumVar(0, 25.5, 'x1')\n",
    "    x2 = solver.NumVar(0, 120.0, 'x2')\n",
    "    x3 = solver.NumVar(0, 100.0, 'x3')\n",
    "\n",
    "    print('Number of variables =', solver.NumVariables())\n",
    "\n",
    "    # Constraint 0: x1 + x2 + x3 >= 150.0.\n",
    "    solver.Add(x1 + x2 + x3 >= 150.0)\n",
    "\n",
    "    # Constraint 1: 200x1 + 2300x2 + 700x3 <= 1200*150.\n",
    "    solver.Add(200*x1 + 2300*x2 + 700*x3 <= 180000.0)\n",
    "\n",
    "\n",
    "    print('Number of constraints =', solver.NumConstraints())\n",
    "\n",
    "    # Objective function: Min 500 x1 + 1000 x2 + 2000 x3.\n",
    "    solver.Minimize(500 * x1 + 1000 * x2 + 2000 * x3)\n",
    "\n",
    "    # Solve the system.\n",
    "    status = solver.Solve()\n",
    "\n",
    "    if status == pywraplp.Solver.OPTIMAL:\n",
    "        print('Solution:')\n",
    "        print('Objective value =', solver.Objective().Value())\n",
    "        print('x1 =', x1.solution_value())\n",
    "        print('x2 =', x2.solution_value())\n",
    "        print('x3 =', x3.solution_value())\n",
    "    else:\n",
    "        print('The problem does not have an optimal solution.')\n",
    "\n",
    "    print('\\nAdvanced usage:')\n",
    "    print('Problem solved in %f milliseconds' % solver.wall_time())\n",
    "    print('Problem solved in %d iterations' % solver.iterations())\n",
    "\n",
    "\n",
    "WaterSourceExample()"
   ]
  },
  {
   "cell_type": "markdown",
   "metadata": {},
   "source": [
    "## Example 3 - Wastewater treatment efficiency"
   ]
  },
  {
   "cell_type": "markdown",
   "metadata": {},
   "source": [
    "<img src=\"img/3_fig.webp\" width=\"800\">\n",
    "<img src=\"img/3_problem1.webp\" width=\"800\">\n",
    "<img src=\"img/3_problem2.webp\" width=\"800\">\n",
    "<img src=\"img/3_model.webp\" width=\"800\">"
   ]
  },
  {
   "cell_type": "code",
   "execution_count": 2,
   "metadata": {},
   "outputs": [
    {
     "name": "stdout",
     "output_type": "stream",
     "text": [
      "Number of variables = 2\n",
      "Number of constraints = 1\n",
      "Solution:\n",
      "Objective value = 1500000.0\n",
      "e1 = 50.0\n",
      "e2 = 50.0\n",
      "\n",
      "Advanced usage:\n",
      "Problem solved in 1.000000 milliseconds\n",
      "Problem solved in 0 iterations\n"
     ]
    }
   ],
   "source": [
    "from ortools.linear_solver import pywraplp\n",
    "\n",
    "def WastewaterExample():\n",
    "    \"\"\"Linear programming sample.\"\"\"\n",
    "    # Instantiate a Glop solver.\n",
    "    solver = pywraplp.Solver.CreateSolver('GLOP')\n",
    "\n",
    "    # Create the two variables and define their bounds.\n",
    "    x1 = solver.NumVar(50.0, solver.infinity(), 'e1')\n",
    "    x2 = solver.NumVar(35.0, solver.infinity(), 'e2')\n",
    "\n",
    "    print('Number of variables =', solver.NumVariables())\n",
    "\n",
    "    # Constraint 0: x1 + x2 >= 100.\n",
    "    solver.Add(x1 + x2 >= 100.0)\n",
    "\n",
    "\n",
    "    print('Number of constraints =', solver.NumConstraints())\n",
    "\n",
    "    # Objective function: Min 20000 x1 + 10000 x2.\n",
    "    solver.Minimize(20000.0 * x1 + 10000.0 * x2)\n",
    "\n",
    "    # Solve the system.\n",
    "    status = solver.Solve()\n",
    "\n",
    "    if status == pywraplp.Solver.OPTIMAL:\n",
    "        print('Solution:')\n",
    "        print('Objective value =', solver.Objective().Value())\n",
    "        print('e1 =', x1.solution_value())\n",
    "        print('e2 =', x2.solution_value())\n",
    "    else:\n",
    "        print('The problem does not have an optimal solution.')\n",
    "\n",
    "    print('\\nAdvanced usage:')\n",
    "    print('Problem solved in %f milliseconds' % solver.wall_time())\n",
    "    print('Problem solved in %d iterations' % solver.iterations())\n",
    "\n",
    "\n",
    "WastewaterExample()"
   ]
  },
  {
   "cell_type": "markdown",
   "metadata": {},
   "source": [
    "## Example 4 - Ore Production"
   ]
  },
  {
   "cell_type": "markdown",
   "metadata": {},
   "source": [
    "<img src=\"img/4_problem.webp\" width=\"800\">\n",
    "<img src=\"img/4_table.webp\" width=\"600\">\n",
    "<img src=\"img/4_model.webp\" width=\"800\">"
   ]
  },
  {
   "cell_type": "code",
   "execution_count": 3,
   "metadata": {},
   "outputs": [
    {
     "name": "stdout",
     "output_type": "stream",
     "text": [
      "Number of variables = 2\n",
      "Number of constraints = 3\n",
      "Solution:\n",
      "Objective value = 765.7142857142858\n",
      "x = 1.714285714285714\n",
      "y = 2.8571428571428577\n",
      "\n",
      "Advanced usage:\n",
      "Problem solved in 1.000000 milliseconds\n",
      "Problem solved in 2 iterations\n"
     ]
    }
   ],
   "source": [
    "from ortools.linear_solver import pywraplp\n",
    "\n",
    "def OreProductionExample():\n",
    "    \"\"\"Linear programming sample.\"\"\"\n",
    "    # Instantiate a Glop solver, naming it LinearExample.\n",
    "    solver = pywraplp.Solver.CreateSolver('GLOP')\n",
    "\n",
    "    # Create the two variables and define their bounds.\n",
    "    x = solver.NumVar(0, 5.0, 'x')\n",
    "    y = solver.NumVar(0, 5.0, 'y')\n",
    "\n",
    "    print('Number of variables =', solver.NumVariables())\n",
    "\n",
    "    # Constraint 0: 6 x + y >= 12.\n",
    "    solver.Add(6 * x + y >= 12.0)\n",
    "\n",
    "    # Constraint 1: 3 x + y >= 8.\n",
    "    solver.Add(3 * x + y >= 8.0)\n",
    "\n",
    "    # Constraint 2: 4 x + 6 y >= 24.\n",
    "    solver.Add(4 * x + 6 * y >= 24.0)\n",
    "\n",
    "    print('Number of constraints =', solver.NumConstraints())\n",
    "\n",
    "    # Objective function: 180 x + 160 y.\n",
    "    solver.Minimize(180 * x + 160 * y)\n",
    "\n",
    "    # Solve the system.\n",
    "    status = solver.Solve()\n",
    "\n",
    "    if status == pywraplp.Solver.OPTIMAL:\n",
    "        print('Solution:')\n",
    "        print('Objective value =', solver.Objective().Value())\n",
    "        print('x =', x.solution_value())\n",
    "        print('y =', y.solution_value())\n",
    "    else:\n",
    "        print('The problem does not have an optimal solution.')\n",
    "\n",
    "    print('\\nAdvanced usage:')\n",
    "    print('Problem solved in %f milliseconds' % solver.wall_time())\n",
    "    print('Problem solved in %d iterations' % solver.iterations())\n",
    "\n",
    "\n",
    "OreProductionExample()"
   ]
  },
  {
   "cell_type": "markdown",
   "metadata": {},
   "source": [
    "### Graphical Solution"
   ]
  },
  {
   "cell_type": "code",
   "execution_count": 4,
   "metadata": {},
   "outputs": [
    {
     "data": {
      "image/png": "[encoded data removed]",
      "text/plain": [
       "<Figure size 576x576 with 1 Axes>"
      ]
     },
     "metadata": {
      "needs_background": "light"
     },
     "output_type": "display_data"
    }
   ],
   "source": [
    "import numpy as np\n",
    "import matplotlib.pyplot as plt\n",
    "\n",
    "x = np.arange(0, 7)\n",
    "plt.figure(figsize=(8,8))\n",
    "plt.plot(x, 12.0 - 6.0*x, color = 'orange', label = '6x + y >= 12')\n",
    "plt.plot(x, 8.0 - 3*x, color = 'purple', label= ' 3x + y >= 8')\n",
    "plt.plot(x, 4.0 - (4/6)*x, color = 'pink', label= ' 4x + 6y >= 24')\n",
    "plt.axvline(x = 5, color = 'blue',label = 'x <= 5')\n",
    "plt.axhline(y = 5, color = 'red',label = 'y <= 5')\n",
    "# plt.plot(x, 9.25 - 0.875*x, color = 'green',linestyle = '--')\n",
    "plt.plot(12/7, 20/7, marker=\"o\", markersize=10, markeredgecolor=\"red\", markerfacecolor=\"red\")\n",
    "\n",
    "plt.xlim([0, 8])\n",
    "plt.ylim([0, 8])\n",
    "\n",
    "# Define the boundaries of the feasible area in the plot\n",
    "x = [12/7, 4/3, 7/6, 5, 5]\n",
    "y = [20/7, 4, 5, 5, 4/6]\n",
    "plt.fill(x, y, 'green' , alpha = 0.3)\n",
    "\n",
    "plt.text(3, 3.5, 'Feasible \\n Region', size = '20')\n",
    "plt.annotate('Optimal \\n solution\\n(1.71, 2.86)', xy = (2, 3), size = '12')\n",
    "\n",
    "plt.xlabel(\"x\")\n",
    "plt.ylabel(\"y\")\n",
    "plt.title('LPP:Graphical Solution')\n",
    "plt.grid(True)\n",
    "plt.legend()\n",
    "plt.show()"
   ]
  },
  {
   "cell_type": "markdown",
   "metadata": {},
   "source": [
    "## Example 5"
   ]
  },
  {
   "cell_type": "markdown",
   "metadata": {},
   "source": [
    "<img src=\"img/lp_5_problem.webp\" width=\"800\">"
   ]
  },
  {
   "cell_type": "code",
   "execution_count": 5,
   "metadata": {},
   "outputs": [
    {
     "name": "stdout",
     "output_type": "stream",
     "text": [
      "Number of variables = 2\n",
      "Number of constraints = 2\n",
      "Solution:\n",
      "Objective value = 1480.0\n",
      "x1 = 6.000000000000002\n",
      "x2 = 3.9999999999999996\n",
      "\n",
      "Advanced usage:\n",
      "Problem solved in 1.000000 milliseconds\n",
      "Problem solved in 3 iterations\n"
     ]
    }
   ],
   "source": [
    "from ortools.linear_solver import pywraplp\n",
    "\n",
    "def Example5():\n",
    "    \"\"\"Linear programming sample.\"\"\"\n",
    "    # Instantiate a Glop solver, naming it LinearExample.\n",
    "    solver = pywraplp.Solver.CreateSolver('GLOP')\n",
    "\n",
    "    # Create the two variables and let them take on any non-negative value.\n",
    "    x1 = solver.NumVar(0.0, 8.0, 'x1')\n",
    "    x2 = solver.NumVar(0.0, 6.0, 'x2')\n",
    "\n",
    "    print('Number of variables =', solver.NumVariables())\n",
    "\n",
    "    # Constraint 0: x + 2y <= 14.\n",
    "    solver.Add(2.0 * x1 + 4.0 * x2 <= 28.0)\n",
    "    solver.Add(5.0 * x1 + 5.0 * x2 <= 50.0)\n",
    "\n",
    "\n",
    "    print('Number of constraints =', solver.NumConstraints())\n",
    "\n",
    "    # Objective function: 3x + 4y.\n",
    "    solver.Maximize(140.0 * x1 + 160.0 * x2)\n",
    "\n",
    "    # Solve the system.\n",
    "    status = solver.Solve()\n",
    "\n",
    "    if status == pywraplp.Solver.OPTIMAL:\n",
    "        print('Solution:')\n",
    "        print('Objective value =', solver.Objective().Value())\n",
    "        print('x1 =', x1.solution_value())\n",
    "        print('x2 =', x2.solution_value())\n",
    "    else:\n",
    "        print('The problem does not have an optimal solution.')\n",
    "\n",
    "    print('\\nAdvanced usage:')\n",
    "    print('Problem solved in %f milliseconds' % solver.wall_time())\n",
    "    print('Problem solved in %d iterations' % solver.iterations())\n",
    "\n",
    "\n",
    "Example5()"
   ]
  },
  {
   "cell_type": "code",
   "execution_count": 6,
   "metadata": {},
   "outputs": [
    {
     "data": {
      "image/png": "[encoded data removed]",
      "text/plain": [
       "<Figure size 576x576 with 1 Axes>"
      ]
     },
     "metadata": {
      "needs_background": "light"
     },
     "output_type": "display_data"
    }
   ],
   "source": [
    "# Plot the optimal solution\n",
    "import numpy as np\n",
    "import matplotlib.pyplot as plt\n",
    "\n",
    "x = np.arange(0, 10)\n",
    "plt.figure(figsize=(8,8))\n",
    "plt.plot(x, 7.0 - 0.5*x, color = 'orange', label = '2x1 + 4x2 <= 28')\n",
    "plt.plot(x, 10 - x, color = 'purple', label= ' 5x1 + 5x2 <= 50')\n",
    "plt.axvline(x = 8, color = 'blue',label = 'x1 <= 8')\n",
    "plt.axhline(y = 6, color = 'red',label = 'x2 <= 6')\n",
    "# plt.plot(x, 9.25 - 0.875*x, color = 'green',linestyle = '--')\n",
    "plt.plot(6, 4, marker=\"o\", markersize=10, markeredgecolor=\"red\", markerfacecolor=\"red\")\n",
    "\n",
    "plt.xlim([0, 10])\n",
    "plt.ylim([0, 10])\n",
    "\n",
    "# Define the boundaries of the feasible area in the plot\n",
    "x = [0, 0, 2, 6, 8, 8]\n",
    "y = [0, 6, 6, 4, 2, 0]\n",
    "plt.fill(x, y, 'green' , alpha = 0.3)\n",
    "\n",
    "plt.text(3, 2, 'Feasible \\n Region', size = '20')\n",
    "plt.annotate('Optimal \\n solution\\n(6.0, 4.0)', xy = (6.5, 4.0), size = '12')\n",
    "\n",
    "plt.xlabel(\"Tons of HYDIT to produce (x1)\")\n",
    "plt.ylabel(\"Tons of FILIT to produce (x2)\")\n",
    "plt.title('LPP:Graphical Solution')\n",
    "plt.grid(True)\n",
    "plt.legend()\n",
    "plt.show()"
   ]
  },
  {
   "cell_type": "code",
   "execution_count": null,
   "metadata": {},
   "outputs": [],
   "source": []
  }
 ],
 "metadata": {
  "kernelspec": {
   "display_name": "Python 3",
   "language": "python",
   "name": "python3"
  },
  "language_info": {
   "codemirror_mode": {
    "name": "ipython",
    "version": 3
   },
   "file_extension": ".py",
   "mimetype": "text/x-python",
   "name": "python",
   "nbconvert_exporter": "python",
   "pygments_lexer": "ipython3",
   "version": "3.7.6"
  }
 },
 "nbformat": 4,
 "nbformat_minor": 4
}
