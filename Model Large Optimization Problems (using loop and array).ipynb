{
 "cells": [
  {
   "cell_type": "markdown",
   "metadata": {},
   "source": [
    "## Using Arrays to Define a Model"
   ]
  },
  {
   "cell_type": "markdown",
   "metadata": {},
   "source": [
    "In  previous tutorial, we learned how to solve a MIP with just a few variables and constraints, which are defined individually. For larger problems, it's more convenient to define the variables and constraints by looping over arrays. The next example illustrates this.\n",
    "\n",
    "__Note:__ The example is adopted from OR-Tools website.\n",
    "\n",
    "### Example\n",
    "In this example we'll solve the following problem.\n",
    "<br>\n",
    "<dl>\n",
    "    <dt>Maximize 7<em>x<sub>1</sub></em> + 8<em>x<sub>2</sub></em> + 2<em>x<sub>3</sub></em> + 9<em>x<sub>4</sub></em> + 6<em>x<sub>5</sub></em>\n",
    "        subject to the following constraints:</dt><br><br>\n",
    "      <dd>\n",
    "        <div class=\"devsite-table-wrapper\"><table border=\"1\" style=\"width:500px\">\n",
    "          <tbody><tr>\n",
    "            <td>5<em>x<sub>1</sub></em></td>\n",
    "            <td>+</td>\n",
    "            <td>7<em>x<sub>2</sub></em></td>\n",
    "            <td>+</td>\n",
    "            <td>9<em>x<sub>3</sub></em></td>\n",
    "            <td>+</td>\n",
    "            <td>2<em>x<sub>4</sub></em></td>\n",
    "            <td>+</td>\n",
    "            <td>1<em>x<sub>5</sub></em></td>\n",
    "            <td>≤</td>\n",
    "            <td>250</td>\n",
    "          </tr>\n",
    "          <tr>\n",
    "            <td>18<em>x<sub>1</sub></em></td>\n",
    "            <td>+</td>\n",
    "            <td>4<em>x<sub>2</sub></em></td>\n",
    "            <td>-</td>\n",
    "            <td>9<em>x<sub>3</sub></em></td>\n",
    "            <td>+</td>\n",
    "            <td>10<em>x<sub>4</sub></em></td>\n",
    "            <td>+</td>\n",
    "            <td>12<em>x<sub>5</sub></em></td>\n",
    "            <td>≤</td>\n",
    "            <td>285</td>\n",
    "          </tr>\n",
    "          <tr>\n",
    "            <td>4<em>x<sub>1</sub></em></td>\n",
    "            <td>+</td>\n",
    "            <td>7<em>x<sub>2</sub></em></td>\n",
    "            <td>+</td>\n",
    "            <td>3<em>x<sub>3</sub></em></td>\n",
    "            <td>+</td>\n",
    "            <td>8<em>x<sub>4</sub></em></td>\n",
    "            <td>+</td>\n",
    "            <td>5<em>x<sub>5</sub></em></td>\n",
    "            <td>≤</td>\n",
    "            <td>211</td>\n",
    "          </tr>\n",
    "          <tr>\n",
    "            <td>5<em>x<sub>1</sub></em></td>\n",
    "            <td>+</td>\n",
    "            <td>13<em>x<sub>2</sub></em></td>\n",
    "            <td>+</td>\n",
    "            <td>16<em>x<sub>3</sub></em></td>\n",
    "            <td>+</td>\n",
    "            <td>3<em>x<sub>4</sub></em></td>\n",
    "            <td>-</td>\n",
    "            <td>7<em>x<sub>5</sub></em></td>\n",
    "            <td>≤</td>\n",
    "            <td>315</td>\n",
    "          </tr>\n",
    "         </tbody></table></div>\n",
    "      </dd>\n",
    "    </dl>\n",
    "  \n",
    "<p>where <em>x<sub>1</sub></em>, <em>x<sub>2</sub></em>, ..., <em>x<sub>5</sub></em> are non-negative\n",
    "integers.</p>\n",
    "\n",
    "The following sections present programs that solve this problem. The programs use the same methods as the previous MIP example, but in this case apply them to array values in a loop."
   ]
  },
  {
   "cell_type": "markdown",
   "metadata": {},
   "source": [
    "### Install OR-Tools"
   ]
  },
  {
   "cell_type": "code",
   "execution_count": null,
   "metadata": {},
   "outputs": [],
   "source": [
    "pip install --upgrade --user ortools"
   ]
  },
  {
   "cell_type": "markdown",
   "metadata": {},
   "source": [
    "### Declare the solver\n",
    "In any MIP program, you start by importing the linear solver wrapper and declaring the MIP solver, as shown in the previous MIP example."
   ]
  },
  {
   "cell_type": "code",
   "execution_count": 3,
   "metadata": {},
   "outputs": [],
   "source": [
    "from ortools.linear_solver import pywraplp"
   ]
  },
  {
   "cell_type": "markdown",
   "metadata": {},
   "source": [
    "### Create the data\n",
    "The following code creates arrays containing the data for the example: the variable coefficients for the constraints and objective function, and bounds for the constraints."
   ]
  },
  {
   "cell_type": "code",
   "execution_count": 4,
   "metadata": {},
   "outputs": [],
   "source": [
    "def create_data_model():\n",
    "    \"\"\"Stores the data for the problem.\"\"\"\n",
    "    data = {}\n",
    "    data['constraint_coeffs'] = [\n",
    "        [5, 7, 9, 2, 1],\n",
    "        [18, 4, -9, 10, 12],\n",
    "        [4, 7, 3, 8, 5],\n",
    "        [5, 13, 16, 3, -7],\n",
    "    ]\n",
    "    data['bounds'] = [250, 285, 211, 315]\n",
    "    data['obj_coeffs'] = [7, 8, 2, 9, 6]\n",
    "    data['num_vars'] = 5\n",
    "    data['num_constraints'] = 4\n",
    "    return data\n"
   ]
  },
  {
   "cell_type": "markdown",
   "metadata": {},
   "source": [
    "### Instantiate the data\n",
    "The following code instantiates the data model."
   ]
  },
  {
   "cell_type": "code",
   "execution_count": 5,
   "metadata": {},
   "outputs": [],
   "source": [
    "data = create_data_model()"
   ]
  },
  {
   "cell_type": "markdown",
   "metadata": {},
   "source": [
    "### Instantiate the solver\n",
    "The following code instantiates the solver."
   ]
  },
  {
   "cell_type": "code",
   "execution_count": 6,
   "metadata": {},
   "outputs": [],
   "source": [
    "# Create the mip solver with the SCIP backend.\n",
    "solver = pywraplp.Solver.CreateSolver('SCIP')"
   ]
  },
  {
   "cell_type": "markdown",
   "metadata": {},
   "source": [
    "### Define the variables\n",
    "The following code defines the variables for the example in a loop. For large problems, this is easier than defining the variables individually, as in the previous example."
   ]
  },
  {
   "cell_type": "code",
   "execution_count": 7,
   "metadata": {},
   "outputs": [
    {
     "name": "stdout",
     "output_type": "stream",
     "text": [
      "Number of variables = 5\n"
     ]
    }
   ],
   "source": [
    "infinity = solver.infinity()\n",
    "x = {}\n",
    "for j in range(data['num_vars']):\n",
    "    x[j] = solver.IntVar(0, infinity, 'x[%i]' % j)\n",
    "print('Number of variables =', solver.NumVariables())"
   ]
  },
  {
   "cell_type": "markdown",
   "metadata": {},
   "source": [
    "### Define the constraints\n",
    "\n",
    "The following code creates the constraints for the example, using loop.\n",
    "\n",
    "This code assigns the coefficient of the variable\n",
    "<code translate=\"no\" dir=\"ltr\">x[j]</code> in constraint <code translate=\"no\" dir=\"ltr\">i</code> to be the <code translate=\"no\" dir=\"ltr\">[i][j]</code> entry of the array\n",
    "<code translate=\"no\" dir=\"ltr\">constraint_coeffs</code>.</p>"
   ]
  },
  {
   "cell_type": "code",
   "execution_count": 8,
   "metadata": {},
   "outputs": [
    {
     "name": "stdout",
     "output_type": "stream",
     "text": [
      "Number of constraints = 4\n"
     ]
    }
   ],
   "source": [
    "for i in range(data['num_constraints']):\n",
    "    constraint_expr = []\n",
    "    for j in range(data['num_vars']):\n",
    "        constraint_expr.append(data['constraint_coeffs'][i][j] * x[j])\n",
    "    solver.Add(sum(constraint_expr) <= data['bounds'][i])\n",
    "print('Number of constraints =', solver.NumConstraints())"
   ]
  },
  {
   "cell_type": "markdown",
   "metadata": {},
   "source": [
    "### Define the objective\n",
    "The following code defines the objective function for the example."
   ]
  },
  {
   "cell_type": "code",
   "execution_count": 10,
   "metadata": {},
   "outputs": [],
   "source": [
    "obj_expr = []\n",
    "for j in range(data['num_vars']):\n",
    "    obj_expr.append(data['obj_coeffs'][j] * x[j])\n",
    "solver.Maximize(solver.Sum(obj_expr))"
   ]
  },
  {
   "cell_type": "markdown",
   "metadata": {},
   "source": [
    "### Call the solver\n",
    "The following code calls the solver."
   ]
  },
  {
   "cell_type": "code",
   "execution_count": 11,
   "metadata": {},
   "outputs": [],
   "source": [
    "status = solver.Solve()"
   ]
  },
  {
   "cell_type": "markdown",
   "metadata": {},
   "source": [
    "### Display the solution\n",
    "The following code displays the solution."
   ]
  },
  {
   "cell_type": "code",
   "execution_count": 12,
   "metadata": {},
   "outputs": [
    {
     "name": "stdout",
     "output_type": "stream",
     "text": [
      "Objective value = 260.00000000000006\n",
      "x[0]  =  9.0\n",
      "x[1]  =  20.0\n",
      "x[2]  =  2.0\n",
      "x[3]  =  1.0\n",
      "x[4]  =  4.0\n",
      "\n",
      "Problem solved in 21899.000000 milliseconds\n",
      "Problem solved in 77 iterations\n",
      "Problem solved in 7 branch-and-bound nodes\n"
     ]
    }
   ],
   "source": [
    "if status == pywraplp.Solver.OPTIMAL:\n",
    "    print('Objective value =', solver.Objective().Value())\n",
    "    for j in range(data['num_vars']):\n",
    "        print(x[j].name(), ' = ', x[j].solution_value())\n",
    "    print()\n",
    "    print('Problem solved in %f milliseconds' % solver.wall_time())\n",
    "    print('Problem solved in %d iterations' % solver.iterations())\n",
    "    print('Problem solved in %d branch-and-bound nodes' % solver.nodes())\n",
    "else:\n",
    "    print('The problem does not have an optimal solution.')"
   ]
  },
  {
   "cell_type": "markdown",
   "metadata": {},
   "source": [
    "### Complete programs\n",
    "Here are the complete programs."
   ]
  },
  {
   "cell_type": "code",
   "execution_count": 16,
   "metadata": {},
   "outputs": [
    {
     "name": "stdout",
     "output_type": "stream",
     "text": [
      "Number of variables = 5\n",
      "Objective value = 260.00000000000006\n",
      "x[0]  =  9.0\n",
      "x[1]  =  20.0\n",
      "x[2]  =  2.0\n",
      "x[3]  =  1.0\n",
      "x[4]  =  4.0\n",
      "\n",
      "Problem solved in 19.000000 milliseconds\n",
      "Problem solved in 77 iterations\n",
      "Problem solved in 7 branch-and-bound nodes\n"
     ]
    }
   ],
   "source": [
    "def main():\n",
    "    data = create_data_model()\n",
    "    # Create the mip solver with the SCIP backend.\n",
    "    solver = pywraplp.Solver.CreateSolver('SCIP')\n",
    "\n",
    "    infinity = solver.infinity()\n",
    "    x = {}\n",
    "    for j in range(data['num_vars']):\n",
    "        x[j] = solver.IntVar(0, infinity, 'x[%i]' % j)\n",
    "    print('Number of variables =', solver.NumVariables())\n",
    "\n",
    "    for i in range(data['num_constraints']):\n",
    "        constraint_expr = []\n",
    "        for j in range(data['num_vars']):\n",
    "            constraint_expr.append(data['constraint_coeffs'][i][j] * x[j])\n",
    "        solver.Add(sum(constraint_expr) <= data['bounds'][i])\n",
    "\n",
    "\n",
    "    obj_expr = []\n",
    "    for j in range(data['num_vars']):\n",
    "        obj_expr.append(data['obj_coeffs'][j] * x[j])\n",
    "    solver.Maximize(solver.Sum(obj_expr))\n",
    "\n",
    "    status = solver.Solve()\n",
    "\n",
    "    if status == pywraplp.Solver.OPTIMAL:\n",
    "        print('Objective value =', solver.Objective().Value())\n",
    "        for j in range(data['num_vars']):\n",
    "            print(x[j].name(), ' = ', x[j].solution_value())\n",
    "        print()\n",
    "        print('Problem solved in %f milliseconds' % solver.wall_time())\n",
    "        print('Problem solved in %d iterations' % solver.iterations())\n",
    "        print('Problem solved in %d branch-and-bound nodes' % solver.nodes())\n",
    "    else:\n",
    "        print('The problem does not have an optimal solution.')\n",
    "\n",
    "\n",
    "if __name__ == '__main__':\n",
    "    main()"
   ]
  },
  {
   "cell_type": "markdown",
   "metadata": {},
   "source": [
    "### Second Method"
   ]
  },
  {
   "cell_type": "code",
   "execution_count": 17,
   "metadata": {},
   "outputs": [
    {
     "name": "stdout",
     "output_type": "stream",
     "text": [
      "Number of variables = 5\n",
      "Objective value = 260.00000000000006\n",
      "x[0]  =  9.0\n",
      "x[1]  =  20.0\n",
      "x[2]  =  2.0\n",
      "x[3]  =  1.0\n",
      "x[4]  =  4.0\n",
      "\n",
      "Problem solved in 19.000000 milliseconds\n",
      "Problem solved in 77 iterations\n",
      "Problem solved in 7 branch-and-bound nodes\n"
     ]
    }
   ],
   "source": [
    "from ortools.linear_solver import pywraplp\n",
    "\n",
    "\n",
    "def create_data_model():\n",
    "    \"\"\"Stores the data for the problem.\"\"\"\n",
    "    data = {}\n",
    "    data['constraint_coeffs'] = [\n",
    "        [5, 7, 9, 2, 1],\n",
    "        [18, 4, -9, 10, 12],\n",
    "        [4, 7, 3, 8, 5],\n",
    "        [5, 13, 16, 3, -7],\n",
    "    ]\n",
    "    data['bounds'] = [250, 285, 211, 315]\n",
    "    data['obj_coeffs'] = [7, 8, 2, 9, 6]\n",
    "    data['num_vars'] = 5\n",
    "    data['num_constraints'] = 4\n",
    "    return data\n",
    "\n",
    "\n",
    "\n",
    "def main():\n",
    "    data = create_data_model()\n",
    "    # Create the mip solver with the SCIP backend.\n",
    "    solver = pywraplp.Solver.CreateSolver('SCIP')\n",
    "\n",
    "    infinity = solver.infinity()\n",
    "    x = {}\n",
    "    for j in range(data['num_vars']):\n",
    "        x[j] = solver.IntVar(0, infinity, 'x[%i]' % j)\n",
    "    print('Number of variables =', solver.NumVariables())\n",
    "\n",
    "    for i in range(data['num_constraints']):\n",
    "        constraint_expr = [data['constraint_coeffs'][i][j] * x[j] for j in range(data['num_vars'])]\n",
    "        solver.Add(sum(constraint_expr) <= data['bounds'][i])\n",
    "\n",
    "\n",
    "    obj_expr = [data['obj_coeffs'][j] * x[j] for j in range(data['num_vars'])]\n",
    "    solver.Maximize(solver.Sum(obj_expr))\n",
    "\n",
    "    status = solver.Solve()\n",
    "\n",
    "    if status == pywraplp.Solver.OPTIMAL:\n",
    "        print('Objective value =', solver.Objective().Value())\n",
    "        for j in range(data['num_vars']):\n",
    "            print(x[j].name(), ' = ', x[j].solution_value())\n",
    "        print()\n",
    "        print('Problem solved in %f milliseconds' % solver.wall_time())\n",
    "        print('Problem solved in %d iterations' % solver.iterations())\n",
    "        print('Problem solved in %d branch-and-bound nodes' % solver.nodes())\n",
    "    else:\n",
    "        print('The problem does not have an optimal solution.')\n",
    "\n",
    "\n",
    "if __name__ == '__main__':\n",
    "    main()"
   ]
  },
  {
   "cell_type": "markdown",
   "metadata": {},
   "source": [
    "### Load an excel table in colab (This method is not for Jupyter Notebook)\n",
    "Here, you can see how to import an excel table in Colab. First you need to creat the table in excel and save it as \".CSV\" format. Then run the following command to load the table by selecting the table file in browser:\n"
   ]
  },
  {
   "cell_type": "code",
   "execution_count": null,
   "metadata": {},
   "outputs": [],
   "source": [
    "from google.colab import files\n",
    "uploaded = files.upload()"
   ]
  },
  {
   "cell_type": "markdown",
   "metadata": {},
   "source": [
    "Then, you need to creat a dataframe based on the table."
   ]
  },
  {
   "cell_type": "code",
   "execution_count": null,
   "metadata": {},
   "outputs": [],
   "source": [
    "import pandas as pd\n",
    "import io\n",
    "data = pd.read_csv(io.BytesIO(uploaded['table.csv']))"
   ]
  },
  {
   "cell_type": "code",
   "execution_count": null,
   "metadata": {},
   "outputs": [],
   "source": [
    "Print(data)"
   ]
  }
 ],
 "metadata": {
  "kernelspec": {
   "display_name": "Python 3",
   "language": "python",
   "name": "python3"
  },
  "language_info": {
   "codemirror_mode": {
    "name": "ipython",
    "version": 3
   },
   "file_extension": ".py",
   "mimetype": "text/x-python",
   "name": "python",
   "nbconvert_exporter": "python",
   "pygments_lexer": "ipython3",
   "version": "3.7.6"
  }
 },
 "nbformat": 4,
 "nbformat_minor": 4
}
