{
 "cells": [
  {
   "cell_type": "markdown",
   "metadata": {},
   "source": [
    "# Mixed Integer Programming"
   ]
  },
  {
   "attachments": {},
   "cell_type": "markdown",
   "metadata": {},
   "source": [
    "The following sections present an example of a MIP problem and show how to solve it. Here's the problem:\n",
    "\n",
    "__Maximize $x + 10y$__ subject to the following constraints:\n",
    "\n",
    "$x + 7 y\t≤\t17.5$\n",
    "\n",
    "$x\t≤\t3.5$\n",
    "\n",
    "$x\t≥\t0$\n",
    "\n",
    "$y\t≥\t0$\n",
    "\n",
    "$x, y$ are integers\n",
    "\n",
    "Since the constraints are linear, this is just a linear optimization problem in which the solutions are required to be integers. The graph below shows the integer points in the feasible region for the problem.\n",
    "\n",
    "\n",
    "<img src=\"https://developers.google.com/optimization/images/mip/feasible_region.png\" width=\"700\">\n",
    "\n",
    "Notice that this problem is very similar to the linear optimization problem, but in this case we require the solutions to be integers.\n",
    "\n",
    "## Basic steps for solving a MIP problem\n",
    "\n",
    "To solve a MIP problem, your program should include the following steps :\n",
    "\n",
    "1. Import the linear solver wrapper,\n",
    "2. declare the MIP solver,\n",
    "3. define the variables,\n",
    "4. define the constraints,\n",
    "5. define the objective,\n",
    "6. call the MIP solver and\n",
    "7. display the solution"
   ]
  },
  {
   "cell_type": "markdown",
   "metadata": {},
   "source": [
    "__Note:__ If or-tools is not installed on your machine, first install it (Google Colab users always need to install or-tools)"
   ]
  },
  {
   "cell_type": "code",
   "execution_count": null,
   "metadata": {},
   "outputs": [],
   "source": [
    "pip install --upgrade --user ortools"
   ]
  },
  {
   "cell_type": "markdown",
   "metadata": {},
   "source": [
    "#### 1. Import the linear solver wrapper\n",
    "Import (or include) the OR-Tools linear solver wrapper, an interface for MIP solvers and linear solvers, as shown below."
   ]
  },
  {
   "cell_type": "code",
   "execution_count": 7,
   "metadata": {},
   "outputs": [],
   "source": [
    "from ortools.linear_solver import pywraplp\n"
   ]
  },
  {
   "cell_type": "markdown",
   "metadata": {},
   "source": [
    "#### 2. Declare the MIP solver\n",
    "The following code declares the MIP solver for the problem. This example uses the third-party solver SCIP"
   ]
  },
  {
   "cell_type": "code",
   "execution_count": 8,
   "metadata": {},
   "outputs": [],
   "source": [
    "# Create the mip solver with the SCIP backend.\n",
    "solver = pywraplp.Solver.CreateSolver('SCIP')\n"
   ]
  },
  {
   "cell_type": "markdown",
   "metadata": {},
   "source": [
    "#### 3. Define the variables\n",
    "The following code defines the variables in the problem."
   ]
  },
  {
   "cell_type": "code",
   "execution_count": 9,
   "metadata": {},
   "outputs": [
    {
     "name": "stdout",
     "output_type": "stream",
     "text": [
      "Number of variables = 2\n"
     ]
    }
   ],
   "source": [
    "infinity = solver.infinity()\n",
    "# x and y are integer non-negative variables.\n",
    "x = solver.IntVar(0.0, infinity, 'x')\n",
    "y = solver.IntVar(0.0, infinity, 'y')\n",
    "\n",
    "print('Number of variables =', solver.NumVariables())"
   ]
  },
  {
   "cell_type": "markdown",
   "metadata": {},
   "source": [
    "#### 4. Define the constraints\n",
    "The following code defines the constraints for the problem."
   ]
  },
  {
   "cell_type": "code",
   "execution_count": 10,
   "metadata": {},
   "outputs": [
    {
     "name": "stdout",
     "output_type": "stream",
     "text": [
      "Number of constraints = 2\n"
     ]
    }
   ],
   "source": [
    "# x + 7 * y <= 17.5.\n",
    "solver.Add(x + 7 * y <= 17.5)\n",
    "\n",
    "# x <= 3.5.\n",
    "solver.Add(x <= 3.5)\n",
    "\n",
    "print('Number of constraints =', solver.NumConstraints())"
   ]
  },
  {
   "cell_type": "markdown",
   "metadata": {},
   "source": [
    "#### 5. Define the objective\n",
    "The following code defines the objective function for the problem."
   ]
  },
  {
   "cell_type": "code",
   "execution_count": 11,
   "metadata": {},
   "outputs": [],
   "source": [
    "# Maximize x + 10 * y.\n",
    "solver.Maximize(x + 10 * y)"
   ]
  },
  {
   "cell_type": "markdown",
   "metadata": {},
   "source": [
    "#### 6. Call the solver\n",
    "The following code calls the solver."
   ]
  },
  {
   "cell_type": "code",
   "execution_count": 12,
   "metadata": {},
   "outputs": [],
   "source": [
    "status = solver.Solve()"
   ]
  },
  {
   "cell_type": "markdown",
   "metadata": {},
   "source": [
    "#### 7. Display the solution\n",
    "The following code displays the solution."
   ]
  },
  {
   "cell_type": "code",
   "execution_count": 13,
   "metadata": {},
   "outputs": [
    {
     "name": "stdout",
     "output_type": "stream",
     "text": [
      "Solution:\n",
      "Objective value = 23.0\n",
      "x = 3.0\n",
      "y = 2.0\n"
     ]
    }
   ],
   "source": [
    "if status == pywraplp.Solver.OPTIMAL:\n",
    "    print('Solution:')\n",
    "    print('Objective value =', solver.Objective().Value())\n",
    "    print('x =', x.solution_value())\n",
    "    print('y =', y.solution_value())\n",
    "else:\n",
    "    print('The problem does not have an optimal solution.')"
   ]
  },
  {
   "cell_type": "markdown",
   "metadata": {},
   "source": [
    "__The optimal value of the objective function is 23, which occurs at the point x = 3, y = 2.__"
   ]
  },
  {
   "cell_type": "markdown",
   "metadata": {},
   "source": [
    "## Complete programs\n",
    "Here are the complete programs."
   ]
  },
  {
   "cell_type": "code",
   "execution_count": 14,
   "metadata": {},
   "outputs": [
    {
     "name": "stdout",
     "output_type": "stream",
     "text": [
      "Number of variables = 2\n",
      "Number of constraints = 2\n",
      "Solution:\n",
      "Objective value = 23.0\n",
      "x = 3.0\n",
      "y = 2.0\n",
      "\n",
      "Advanced usage:\n",
      "Problem solved in 4.000000 milliseconds\n",
      "Problem solved in 0 iterations\n",
      "Problem solved in 1 branch-and-bound nodes\n"
     ]
    }
   ],
   "source": [
    "from ortools.linear_solver import pywraplp\n",
    "\n",
    "\n",
    "def main():\n",
    "    # Create the mip solver with the SCIP backend.\n",
    "    solver = pywraplp.Solver.CreateSolver('SCIP')\n",
    "\n",
    "    infinity = solver.infinity()\n",
    "    # x and y are integer non-negative variables.\n",
    "    x = solver.IntVar(0.0, infinity, 'x')\n",
    "    y = solver.IntVar(0.0, infinity, 'y')\n",
    "\n",
    "    print('Number of variables =', solver.NumVariables())\n",
    "\n",
    "    # x + 7 * y <= 17.5.\n",
    "    solver.Add(x + 7 * y <= 17.5)\n",
    "\n",
    "    # x <= 3.5.\n",
    "    solver.Add(x <= 3.5)\n",
    "\n",
    "    print('Number of constraints =', solver.NumConstraints())\n",
    "\n",
    "    # Maximize x + 10 * y.\n",
    "    solver.Maximize(x + 10 * y)\n",
    "\n",
    "    status = solver.Solve()\n",
    "\n",
    "    if status == pywraplp.Solver.OPTIMAL:\n",
    "        print('Solution:')\n",
    "        print('Objective value =', solver.Objective().Value())\n",
    "        print('x =', x.solution_value())\n",
    "        print('y =', y.solution_value())\n",
    "    else:\n",
    "        print('The problem does not have an optimal solution.')\n",
    "\n",
    "    print('\\nAdvanced usage:')\n",
    "    print('Problem solved in %f milliseconds' % solver.wall_time())\n",
    "    print('Problem solved in %d iterations' % solver.iterations())\n",
    "    print('Problem solved in %d branch-and-bound nodes' % solver.nodes())\n",
    "\n",
    "\n",
    "if __name__ == '__main__':\n",
    "    main()"
   ]
  },
  {
   "cell_type": "markdown",
   "metadata": {},
   "source": [
    "## Comparing Linear and Integer Optimization\n",
    "Let's compare the solution to the integer optimization problem, shown above, with the solution to the corresponding linear optimization problem, in which integer constraints are removed. You might guess that the solution to the integer problem would be the integer point in the feasible region closest to the linear solution — namely, the point $x = 0,  y = 2$. But as you will see next, this is not the case.\n",
    "\n",
    "You can easily modify the program in the preceding section to solve the linear problem by making the following changes:"
   ]
  },
  {
   "cell_type": "code",
   "execution_count": 19,
   "metadata": {},
   "outputs": [
    {
     "name": "stdout",
     "output_type": "stream",
     "text": [
      "Number of variables = 2\n",
      "Number of constraints = 2\n",
      "Solution:\n",
      "Objective value = 25.0\n",
      "x = 0.0\n",
      "y = 2.5\n",
      "\n",
      "Advanced usage:\n",
      "Problem solved in 4.000000 milliseconds\n",
      "Problem solved in 0 iterations\n",
      "Problem solved in 0 branch-and-bound nodes\n"
     ]
    }
   ],
   "source": [
    "from ortools.linear_solver import pywraplp\n",
    "\n",
    "\n",
    "def main():\n",
    "    # Create the mip solver with the SCIP backend.\n",
    "    solver = pywraplp.Solver.CreateSolver('SCIP')\n",
    "\n",
    "    infinity = solver.infinity()\n",
    "    # x and y are integer non-negative variables.\n",
    "    x = solver.NumVar(0.0, infinity, 'x')\n",
    "    y = solver.NumVar(0.0, infinity, 'y')\n",
    "\n",
    "    print('Number of variables =', solver.NumVariables())\n",
    "\n",
    "    # x + 7 * y <= 17.5.\n",
    "    solver.Add(x + 7 * y <= 17.5)\n",
    "\n",
    "    # x <= 3.5.\n",
    "    solver.Add(x <= 3.5)\n",
    "\n",
    "    print('Number of constraints =', solver.NumConstraints())\n",
    "\n",
    "    # Maximize x + 10 * y.\n",
    "    solver.Maximize(x + 10 * y)\n",
    "\n",
    "    status = solver.Solve()\n",
    "\n",
    "    if status == pywraplp.Solver.OPTIMAL:\n",
    "        print('Solution:')\n",
    "        print('Objective value =', solver.Objective().Value())\n",
    "        print('x =', x.solution_value())\n",
    "        print('y =', y.solution_value())\n",
    "    else:\n",
    "        print('The problem does not have an optimal solution.')\n",
    "\n",
    "    print('\\nAdvanced usage:')\n",
    "    print('Problem solved in %f milliseconds' % solver.wall_time())\n",
    "    print('Problem solved in %d iterations' % solver.iterations())\n",
    "    print('Problem solved in %d branch-and-bound nodes' % solver.nodes())\n",
    "\n",
    "\n",
    "if __name__ == '__main__':\n",
    "    main()"
   ]
  },
  {
   "cell_type": "markdown",
   "metadata": {},
   "source": [
    "The solution to the linear problem occurs at the point x = 0,  y = 2.5, where the objective function equals 25. Here's a graph showing the solutions to both the linear and integer problems.\n",
    "<img src=\"https://developers.google.com/optimization/images/mip/feasible_region_sol.png\" width=\"700\">\n",
    "\n",
    "Notice that the integer solution is not close to the linear solution, compared with most other integer points in the feasible region. In general, the solutions to a linear optimization problem and the corresponding integer optimization problems can be far apart. Because of this, the two types of problems require different methods for their solution."
   ]
  },
  {
   "cell_type": "code",
   "execution_count": null,
   "metadata": {},
   "outputs": [],
   "source": []
  },
  {
   "cell_type": "code",
   "execution_count": null,
   "metadata": {},
   "outputs": [],
   "source": []
  },
  {
   "cell_type": "code",
   "execution_count": null,
   "metadata": {},
   "outputs": [],
   "source": []
  },
  {
   "cell_type": "code",
   "execution_count": null,
   "metadata": {},
   "outputs": [],
   "source": []
  }
 ],
 "metadata": {
  "kernelspec": {
   "display_name": "Python 3",
   "language": "python",
   "name": "python3"
  },
  "language_info": {
   "codemirror_mode": {
    "name": "ipython",
    "version": 3
   },
   "file_extension": ".py",
   "mimetype": "text/x-python",
   "name": "python",
   "nbconvert_exporter": "python",
   "pygments_lexer": "ipython3",
   "version": "3.7.6"
  }
 },
 "nbformat": 4,
 "nbformat_minor": 4
}
