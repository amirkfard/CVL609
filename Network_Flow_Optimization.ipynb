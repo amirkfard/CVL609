{
 "cells": [
  {
   "cell_type": "markdown",
   "metadata": {},
   "source": [
    "## Network Flow Optimization Examples\n",
    "\n",
    "In this tutorial, we want to solve the following example:"
   ]
  },
  {
   "cell_type": "markdown",
   "metadata": {},
   "source": [
    " "
   ]
  },
  {
   "cell_type": "markdown",
   "metadata": {},
   "source": [
    "<img src=\"https://github.com/amirkfard/CVL609/blob/main/img/mip_81.webp?raw=1\\\" width=\"700\">\n",
    "<img src=\"https://github.com/amirkfard/CVL609/blob/main/img/mip_82.webp?raw=1\\\" width=\"700\">\n",
    "<img src=\"https://github.com/amirkfard/CVL609/blob/main/img/mip_83.webp?raw=1\\\" width=\"700\">\n",
    "<img src=\"https://github.com/amirkfard/CVL609/blob/main/img/mip_84.webp?raw=1\\\" width=\"700\">"
   ]
  },
  {
   "cell_type": "markdown",
   "metadata": {},
   "source": [
    "### Install OR-Tools"
   ]
  },
  {
   "cell_type": "code",
   "execution_count": null,
   "metadata": {},
   "outputs": [],
   "source": [
    "pip install --upgrade --user ortools"
   ]
  },
  {
   "cell_type": "markdown",
   "metadata": {},
   "source": [
    "### Declare the solver\n",
    "In any MIP program, you start by importing the linear solver wrapper and declaring the MIP solver, as shown in the previous MIP example."
   ]
  },
  {
   "cell_type": "code",
   "execution_count": 2,
   "metadata": {},
   "outputs": [],
   "source": [
    "from ortools.linear_solver import pywraplp"
   ]
  },
  {
   "cell_type": "markdown",
   "metadata": {},
   "source": [
    "### Create the data\n",
    "The following code creates arrays containing the data for the example: the variable coefficients for the constraints and objective function, and bounds for the constraints."
   ]
  },
  {
   "cell_type": "code",
   "execution_count": 64,
   "metadata": {},
   "outputs": [
    {
     "name": "stdout",
     "output_type": "stream",
     "text": [
      "   E  T  O\n",
      "W  5  4  3\n",
      "M  3  2  1\n",
      "H  9  7  5\n"
     ]
    }
   ],
   "source": [
    "import pandas as pd\n",
    "\n",
    "Sources = ['W','M','H']\n",
    "Destinations = ['E','T','O']\n",
    "Capacities = {'W' : 100, 'M' : 300, 'H' : 300}\n",
    "Requirements = {'E' : 300, 'T' : 200, 'O' : 200}\n",
    "Costs_Values = [[5,4,3],[3,2,1],[9,7,5]]\n",
    "Costs = pd.DataFrame(Costs_Values , columns = Destinations , index = Sources)\n",
    "print(Costs)"
   ]
  },
  {
   "cell_type": "markdown",
   "metadata": {},
   "source": [
    "### Instantiate the solver\n",
    "The following code instantiates the solver."
   ]
  },
  {
   "cell_type": "code",
   "execution_count": 66,
   "metadata": {},
   "outputs": [],
   "source": [
    "# Create the mip solver with the SCIP backend.\n",
    "solver = pywraplp.Solver.CreateSolver('SCIP')"
   ]
  },
  {
   "cell_type": "markdown",
   "metadata": {},
   "source": [
    "### Define the variables\n",
    "The following code defines the variables for the example in a loop. For large problems, this is easier than defining the variables individually, as in the previous example."
   ]
  },
  {
   "cell_type": "code",
   "execution_count": 67,
   "metadata": {},
   "outputs": [
    {
     "name": "stdout",
     "output_type": "stream",
     "text": [
      "Number of variables = 9\n"
     ]
    }
   ],
   "source": [
    "infinity = solver.infinity()\n",
    "x = {}\n",
    "for s in Sources:\n",
    "    for d in Destinations:\n",
    "        x[s,d] = solver.IntVar(0, infinity, f'x[{s},{d}]')\n",
    "\n",
    "print('Number of variables =', solver.NumVariables())"
   ]
  },
  {
   "cell_type": "markdown",
   "metadata": {},
   "source": [
    "### Define the constraints\n",
    "\n",
    "The following code creates the constraints for the example, using loop.\n"
   ]
  },
  {
   "cell_type": "code",
   "execution_count": 68,
   "metadata": {},
   "outputs": [
    {
     "name": "stdout",
     "output_type": "stream",
     "text": [
      "Number of constraints = 6\n"
     ]
    }
   ],
   "source": [
    "for s in Sources:\n",
    "    constraint_expr = []\n",
    "    for d in Destinations:\n",
    "        constraint_expr.append(x[s,d])\n",
    "    solver.Add(sum(constraint_expr) == Capacities[s])\n",
    "\n",
    "for d in Destinations:\n",
    "    constraint_expr = []\n",
    "    for s in Sources:\n",
    "        constraint_expr.append(x[s,d])\n",
    "    solver.Add(sum(constraint_expr) == Requirements[d])\n",
    "    \n",
    "print('Number of constraints =', solver.NumConstraints())"
   ]
  },
  {
   "cell_type": "markdown",
   "metadata": {},
   "source": [
    "### Define the objective\n",
    "The following code defines the objective function for the example."
   ]
  },
  {
   "cell_type": "code",
   "execution_count": 69,
   "metadata": {},
   "outputs": [],
   "source": [
    "obj_expr = []\n",
    "for s in Sources:\n",
    "    for d in Destinations:\n",
    "        obj_expr.append(Costs[d][s] * x[s,d])\n",
    "solver.Minimize(solver.Sum(obj_expr))"
   ]
  },
  {
   "cell_type": "markdown",
   "metadata": {},
   "source": [
    "### Call the solver\n",
    "The following code calls the solver."
   ]
  },
  {
   "cell_type": "code",
   "execution_count": 70,
   "metadata": {},
   "outputs": [],
   "source": [
    "status = solver.Solve()"
   ]
  },
  {
   "cell_type": "markdown",
   "metadata": {},
   "source": [
    "### Display the solution\n",
    "The following code displays the solution."
   ]
  },
  {
   "cell_type": "code",
   "execution_count": 71,
   "metadata": {},
   "outputs": [
    {
     "name": "stdout",
     "output_type": "stream",
     "text": [
      "Objective value = 3000.0\n",
      "x[W,E]  =  100.0\n",
      "x[W,T]  =  0.0\n",
      "x[W,O]  =  0.0\n",
      "x[M,E]  =  200.0\n",
      "x[M,T]  =  100.0\n",
      "x[M,O]  =  0.0\n",
      "x[H,E]  =  0.0\n",
      "x[H,T]  =  100.0\n",
      "x[H,O]  =  200.0\n",
      "\n",
      "Problem solved in 133958.000000 milliseconds\n",
      "Problem solved in 6 iterations\n",
      "Problem solved in 1 branch-and-bound nodes\n"
     ]
    }
   ],
   "source": [
    "if status == pywraplp.Solver.OPTIMAL:\n",
    "    print('Objective value =', solver.Objective().Value())\n",
    "    for s in Sources:\n",
    "        for d in Destinations:\n",
    "            print(x[s,d].name(), ' = ', x[s,d].solution_value())\n",
    "    print()\n",
    "    print('Problem solved in %f milliseconds' % solver.wall_time())\n",
    "    print('Problem solved in %d iterations' % solver.iterations())\n",
    "    print('Problem solved in %d branch-and-bound nodes' % solver.nodes())\n",
    "else:\n",
    "    print('The problem does not have an optimal solution.')"
   ]
  },
  {
   "cell_type": "markdown",
   "metadata": {},
   "source": [
    "### Complete programs\n",
    "Here are the complete programs."
   ]
  },
  {
   "cell_type": "code",
   "execution_count": 72,
   "metadata": {},
   "outputs": [
    {
     "name": "stdout",
     "output_type": "stream",
     "text": [
      "Number of variables = 9\n",
      "Number of constraints = 6\n",
      "Objective value = 3000.0\n",
      "x[W,E]  =  100.0\n",
      "x[W,T]  =  0.0\n",
      "x[W,O]  =  0.0\n",
      "x[M,E]  =  200.0\n",
      "x[M,T]  =  100.0\n",
      "x[M,O]  =  0.0\n",
      "x[H,E]  =  0.0\n",
      "x[H,T]  =  100.0\n",
      "x[H,O]  =  200.0\n",
      "\n",
      "Problem solved in 11.000000 milliseconds\n",
      "Problem solved in 6 iterations\n",
      "Problem solved in 1 branch-and-bound nodes\n"
     ]
    }
   ],
   "source": [
    "solver = pywraplp.Solver.CreateSolver('SCIP')\n",
    "\n",
    "infinity = solver.infinity()\n",
    "x = {}\n",
    "for s in Sources:\n",
    "    for d in Destinations:\n",
    "        x[s,d] = solver.IntVar(0, infinity, f'x[{s},{d}]')\n",
    "\n",
    "print('Number of variables =', solver.NumVariables())\n",
    "\n",
    "for s in Sources:\n",
    "    constraint_expr = []\n",
    "    for d in Destinations:\n",
    "        constraint_expr.append(x[s,d])\n",
    "    solver.Add(sum(constraint_expr) == Capacities[s])\n",
    "\n",
    "for d in Destinations:\n",
    "    constraint_expr = []\n",
    "    for s in Sources:\n",
    "        constraint_expr.append(x[s,d])\n",
    "    solver.Add(sum(constraint_expr) == Requirements[d])\n",
    "    \n",
    "print('Number of constraints =', solver.NumConstraints())\n",
    "\n",
    "obj_expr = []\n",
    "for s in Sources:\n",
    "    for d in Destinations:\n",
    "        obj_expr.append(Costs[d][s] * x[s,d])\n",
    "solver.Minimize(solver.Sum(obj_expr))\n",
    "\n",
    "status = solver.Solve()\n",
    "\n",
    "if status == pywraplp.Solver.OPTIMAL:\n",
    "    print('Objective value =', solver.Objective().Value())\n",
    "    for s in Sources:\n",
    "        for d in Destinations:\n",
    "            print(x[s,d].name(), ' = ', x[s,d].solution_value())\n",
    "    print()\n",
    "    print('Problem solved in %f milliseconds' % solver.wall_time())\n",
    "    print('Problem solved in %d iterations' % solver.iterations())\n",
    "    print('Problem solved in %d branch-and-bound nodes' % solver.nodes())\n",
    "else:\n",
    "    print('The problem does not have an optimal solution.')"
   ]
  },
  {
   "cell_type": "markdown",
   "metadata": {},
   "source": [
    "# Unbalanced Transportation Model\n",
    "<img src=\"https://github.com/amirkfard/CVL609/blob/main/img/mip_85.webp?raw=1\\\" width=\"700\">\n",
    "<img src=\"https://github.com/amirkfard/CVL609/blob/main/img/mip_86.webp?raw=1\\\" width=\"700\">"
   ]
  },
  {
   "cell_type": "code",
   "execution_count": 47,
   "metadata": {},
   "outputs": [
    {
     "name": "stdout",
     "output_type": "stream",
     "text": [
      "Number of variables = 9\n",
      "Number of constraints = 6\n",
      "Objective value = 3000.0\n",
      "x[W,E]  =  0.0\n",
      "x[W,T]  =  100.0\n",
      "x[W,O]  =  0.0\n",
      "x[M,E]  =  300.0\n",
      "x[M,T]  =  0.0\n",
      "x[M,O]  =  0.0\n",
      "x[H,E]  =  0.0\n",
      "x[H,T]  =  100.0\n",
      "x[H,O]  =  200.0\n",
      "\n",
      "Problem solved in 9.000000 milliseconds\n",
      "Problem solved in 7 iterations\n",
      "Problem solved in 1 branch-and-bound nodes\n"
     ]
    }
   ],
   "source": [
    "solver = pywraplp.Solver.CreateSolver('SCIP')\n",
    "\n",
    "infinity = solver.infinity()\n",
    "x = {}\n",
    "for s in Sources:\n",
    "    for d in Destinations:\n",
    "        x[s,d] = solver.IntVar(0, infinity, f'x[{s},{d}]')\n",
    "\n",
    "print('Number of variables =', solver.NumVariables())\n",
    "\n",
    "for s in Sources:\n",
    "    constraint_expr = []\n",
    "    for d in Destinations:\n",
    "        constraint_expr.append(x[s,d])\n",
    "    solver.Add(sum(constraint_expr) <= Capacities[s])\n",
    "\n",
    "for d in Destinations:\n",
    "    constraint_expr = []\n",
    "    for s in Sources:\n",
    "        constraint_expr.append(x[s,d])\n",
    "    solver.Add(sum(constraint_expr) == Requirements[d])\n",
    "    \n",
    "print('Number of constraints =', solver.NumConstraints())\n",
    "\n",
    "obj_expr = []\n",
    "for s in Sources:\n",
    "    for d in Destinations:\n",
    "        obj_expr.append(Costs[d][s] * x[s,d])\n",
    "solver.Minimize(solver.Sum(obj_expr))\n",
    "\n",
    "status = solver.Solve()\n",
    "\n",
    "if status == pywraplp.Solver.OPTIMAL:\n",
    "    print('Objective value =', solver.Objective().Value())\n",
    "    for s in Sources:\n",
    "        for d in Destinations:\n",
    "            print(x[s,d].name(), ' = ', x[s,d].solution_value())\n",
    "    print()\n",
    "    print('Problem solved in %f milliseconds' % solver.wall_time())\n",
    "    print('Problem solved in %d iterations' % solver.iterations())\n",
    "    print('Problem solved in %d branch-and-bound nodes' % solver.nodes())\n",
    "else:\n",
    "    print('The problem does not have an optimal solution.')"
   ]
  },
  {
   "cell_type": "markdown",
   "metadata": {},
   "source": [
    "<img src=\"https://github.com/amirkfard/CVL609/blob/main/img/mip_87.webp?raw=1\\\" width=\"700\">\n",
    "<img src=\"https://github.com/amirkfard/CVL609/blob/main/img/mip_88.webp?raw=1\\\" width=\"700\">"
   ]
  },
  {
   "cell_type": "code",
   "execution_count": 48,
   "metadata": {},
   "outputs": [
    {
     "name": "stdout",
     "output_type": "stream",
     "text": [
      "Number of variables = 9\n",
      "Number of constraints = 6\n",
      "Objective value = 3000.0\n",
      "x[W,E]  =  100.0\n",
      "x[W,T]  =  0.0\n",
      "x[W,O]  =  0.0\n",
      "x[M,E]  =  200.0\n",
      "x[M,T]  =  100.0\n",
      "x[M,O]  =  0.0\n",
      "x[H,E]  =  0.0\n",
      "x[H,T]  =  100.0\n",
      "x[H,O]  =  200.0\n",
      "\n",
      "Problem solved in 8.000000 milliseconds\n",
      "Problem solved in 5 iterations\n",
      "Problem solved in 1 branch-and-bound nodes\n"
     ]
    }
   ],
   "source": [
    "solver = pywraplp.Solver.CreateSolver('SCIP')\n",
    "\n",
    "infinity = solver.infinity()\n",
    "x = {}\n",
    "for s in Sources:\n",
    "    for d in Destinations:\n",
    "        x[s,d] = solver.IntVar(0, infinity, f'x[{s},{d}]')\n",
    "\n",
    "print('Number of variables =', solver.NumVariables())\n",
    "\n",
    "for s in Sources:\n",
    "    constraint_expr = []\n",
    "    for d in Destinations:\n",
    "        constraint_expr.append(x[s,d])\n",
    "    solver.Add(sum(constraint_expr) == Capacities[s])\n",
    "\n",
    "for d in Destinations:\n",
    "    constraint_expr = []\n",
    "    for s in Sources:\n",
    "        constraint_expr.append(x[s,d])\n",
    "    solver.Add(sum(constraint_expr) <= Requirements[d])\n",
    "    \n",
    "print('Number of constraints =', solver.NumConstraints())\n",
    "\n",
    "obj_expr = []\n",
    "for s in Sources:\n",
    "    for d in Destinations:\n",
    "        obj_expr.append(Costs[d][s] * x[s,d])\n",
    "solver.Minimize(solver.Sum(obj_expr))\n",
    "\n",
    "status = solver.Solve()\n",
    "\n",
    "if status == pywraplp.Solver.OPTIMAL:\n",
    "    print('Objective value =', solver.Objective().Value())\n",
    "    for s in Sources:\n",
    "        for d in Destinations:\n",
    "            print(x[s,d].name(), ' = ', x[s,d].solution_value())\n",
    "    print()\n",
    "    print('Problem solved in %f milliseconds' % solver.wall_time())\n",
    "    print('Problem solved in %d iterations' % solver.iterations())\n",
    "    print('Problem solved in %d branch-and-bound nodes' % solver.nodes())\n",
    "else:\n",
    "    print('The problem does not have an optimal solution.')"
   ]
  },
  {
   "cell_type": "markdown",
   "metadata": {},
   "source": [
    "<img src=\"https://github.com/amirkfard/CVL609/blob/main/img/mip_89.webp?raw=1\\\" width=\"700\">\n",
    "<img src=\"https://github.com/amirkfard/CVL609/blob/main/img/mip_810.webp?raw=1\\\" width=\"700\">\n",
    "<img src=\"https://github.com/amirkfard/CVL609/blob/main/img/mip_811.webp?raw=1\\\" width=\"700\">\n",
    "<img src=\"https://github.com/amirkfard/CVL609/blob/main/img/mip_812.webp?raw=1\\\" width=\"700\">\n",
    "<img src=\"https://github.com/amirkfard/CVL609/blob/main/img/mip_813.webp?raw=1\\\" width=\"700\">"
   ]
  },
  {
   "cell_type": "code",
   "execution_count": 57,
   "metadata": {},
   "outputs": [
    {
     "name": "stdout",
     "output_type": "stream",
     "text": [
      "   E  T  O  M\n",
      "W  5  4  3  2\n",
      "M  3  2  1  0\n",
      "H  9  7  5  3\n"
     ]
    }
   ],
   "source": [
    "Sources = ['W','M','H']\n",
    "Destinations = ['E','T','O','M']\n",
    "Capacities = {'W' : 100, 'M' : 300, 'H' : 300}\n",
    "Requirements = {'E' : 300, 'T' : 200, 'O' : 200, 'M' : 0}\n",
    "Costs_Values = [[5,4,3,2],[3,2,1,0],[9,7,5,3]]\n",
    "Costs = pd.DataFrame(Costs_Values , columns = Destinations , index = Sources)\n",
    "print(Costs)"
   ]
  },
  {
   "cell_type": "code",
   "execution_count": 62,
   "metadata": {},
   "outputs": [
    {
     "name": "stdout",
     "output_type": "stream",
     "text": [
      "Number of variables = 12\n",
      "Number of constraints = 8\n",
      "Objective value = 3000.0\n",
      "x[W,E]  =  100.0\n",
      "x[W,T]  =  0.0\n",
      "x[W,O]  =  0.0\n",
      "x[W,M]  =  0.0\n",
      "x[M,E]  =  200.0\n",
      "x[M,T]  =  100.0\n",
      "x[M,O]  =  0.0\n",
      "x[M,M]  =  0.0\n",
      "x[H,E]  =  0.0\n",
      "x[H,T]  =  100.0\n",
      "x[H,O]  =  200.0\n",
      "x[H,M]  =  0.0\n",
      "\n",
      "Problem solved in 13.000000 milliseconds\n",
      "Problem solved in 6 iterations\n",
      "Problem solved in 1 branch-and-bound nodes\n"
     ]
    }
   ],
   "source": [
    "solver = pywraplp.Solver.CreateSolver('SCIP')\n",
    "\n",
    "infinity = solver.infinity()\n",
    "x = {}\n",
    "for s in Sources:\n",
    "    for d in Destinations:\n",
    "        x[s,d] = solver.IntVar(0, infinity, f'x[{s},{d}]')\n",
    "\n",
    "print('Number of variables =', solver.NumVariables())\n",
    "\n",
    "for s in Sources:\n",
    "    constraint_expr = []\n",
    "    for d in Destinations:\n",
    "        constraint_expr.append(x[s,d])\n",
    "    solver.Add(sum(constraint_expr) == Capacities[s])\n",
    "\n",
    "for d in Destinations:\n",
    "    constraint_expr = []\n",
    "    for s in Sources:\n",
    "        constraint_expr.append(x[s,d])\n",
    "    solver.Add(sum(constraint_expr) == Requirements[d])\n",
    "\n",
    "solver.Add(x['M','M'] == 0)\n",
    "\n",
    "print('Number of constraints =', solver.NumConstraints())\n",
    "\n",
    "obj_expr = []\n",
    "for s in Sources:\n",
    "    for d in Destinations:\n",
    "        obj_expr.append(Costs[d][s] * x[s,d])\n",
    "solver.Minimize(solver.Sum(obj_expr))\n",
    "\n",
    "status = solver.Solve()\n",
    "\n",
    "if status == pywraplp.Solver.OPTIMAL:\n",
    "    print('Objective value =', solver.Objective().Value())\n",
    "    for s in Sources:\n",
    "        for d in Destinations:\n",
    "            print(x[s,d].name(), ' = ', x[s,d].solution_value())\n",
    "    print()\n",
    "    print('Problem solved in %f milliseconds' % solver.wall_time())\n",
    "    print('Problem solved in %d iterations' % solver.iterations())\n",
    "    print('Problem solved in %d branch-and-bound nodes' % solver.nodes())\n",
    "else:\n",
    "    print('The problem does not have an optimal solution.')"
   ]
  }
 ],
 "metadata": {
  "kernelspec": {
   "display_name": "Python 3",
   "language": "python",
   "name": "python3"
  },
  "language_info": {
   "codemirror_mode": {
    "name": "ipython",
    "version": 3
   },
   "file_extension": ".py",
   "mimetype": "text/x-python",
   "name": "python",
   "nbconvert_exporter": "python",
   "pygments_lexer": "ipython3",
   "version": "3.7.6"
  }
 },
 "nbformat": 4,
 "nbformat_minor": 4
}
