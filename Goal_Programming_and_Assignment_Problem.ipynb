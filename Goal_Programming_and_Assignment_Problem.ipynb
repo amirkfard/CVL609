{
 "cells": [
  {
   "cell_type": "markdown",
   "metadata": {},
   "source": [
    "\n",
    "## Goal Programming and Assignment Problem Example\n",
    "\n",
    "In this tutorial, we want to solve the following examples:"
   ]
  },
  {
   "cell_type": "markdown",
   "metadata": {},
   "source": [
    "### Install OR-Tools"
   ]
  },
  {
   "cell_type": "code",
   "execution_count": 14,
   "metadata": {
    "scrolled": true
   },
   "outputs": [
    {
     "name": "stdout",
     "output_type": "stream",
     "text": [
      "Requirement already satisfied: ortools in c:\\users\\amir\\appdata\\roaming\\python\\python37\\site-packages (9.3.10497)\n",
      "Requirement already satisfied: protobuf>=3.19.4 in c:\\users\\amir\\appdata\\roaming\\python\\python37\\site-packages (from ortools) (3.19.4)\n",
      "Requirement already satisfied: numpy>=1.13.3 in c:\\users\\amir\\anaconda3\\lib\\site-packages (from ortools) (1.18.5)\n",
      "Requirement already satisfied: absl-py>=0.13 in c:\\users\\amir\\appdata\\roaming\\python\\python37\\site-packages (from ortools) (1.0.0)\n",
      "Requirement already satisfied: six in c:\\users\\amir\\anaconda3\\lib\\site-packages (from absl-py>=0.13->ortools) (1.15.0)\n",
      "Note: you may need to restart the kernel to use updated packages.\n"
     ]
    },
    {
     "name": "stderr",
     "output_type": "stream",
     "text": [
      "WARNING: Ignoring invalid distribution -umpy (c:\\users\\amir\\anaconda3\\lib\\site-packages)\n",
      "WARNING: Ignoring invalid distribution -ensorflow-gpu (c:\\users\\amir\\anaconda3\\lib\\site-packages)\n",
      "WARNING: Ignoring invalid distribution -umpy (c:\\users\\amir\\anaconda3\\lib\\site-packages)\n",
      "WARNING: Ignoring invalid distribution -ensorflow-gpu (c:\\users\\amir\\anaconda3\\lib\\site-packages)\n",
      "WARNING: Ignoring invalid distribution -umpy (c:\\users\\amir\\anaconda3\\lib\\site-packages)\n",
      "WARNING: Ignoring invalid distribution -ensorflow-gpu (c:\\users\\amir\\anaconda3\\lib\\site-packages)\n",
      "WARNING: Ignoring invalid distribution -umpy (c:\\users\\amir\\anaconda3\\lib\\site-packages)\n",
      "WARNING: Ignoring invalid distribution -ensorflow-gpu (c:\\users\\amir\\anaconda3\\lib\\site-packages)\n",
      "WARNING: Ignoring invalid distribution -umpy (c:\\users\\amir\\anaconda3\\lib\\site-packages)\n",
      "WARNING: Ignoring invalid distribution -ensorflow-gpu (c:\\users\\amir\\anaconda3\\lib\\site-packages)\n",
      "WARNING: Ignoring invalid distribution -umpy (c:\\users\\amir\\anaconda3\\lib\\site-packages)\n",
      "WARNING: Ignoring invalid distribution -ensorflow-gpu (c:\\users\\amir\\anaconda3\\lib\\site-packages)\n",
      "WARNING: You are using pip version 21.3.1; however, version 22.0.4 is available.\n",
      "You should consider upgrading via the 'C:\\Users\\Amir\\anaconda3\\python.exe -m pip install --upgrade pip' command.\n"
     ]
    }
   ],
   "source": [
    "pip install --upgrade --user ortools"
   ]
  },
  {
   "cell_type": "markdown",
   "metadata": {},
   "source": [
    " ## Goal Programming"
   ]
  },
  {
   "cell_type": "markdown",
   "metadata": {},
   "source": [
    "<img src=\"https://github.com/amirkfard/CVL609/blob/main/img/mip_101.webp?raw=1\\\" width=\"700\">\n",
    "<img src=\"https://github.com/amirkfard/CVL609/blob/main/img/mip_102.webp?raw=1\\\" width=\"700\">\n",
    "<img src=\"https://github.com/amirkfard/CVL609/blob/main/img/mip_103.webp?raw=1\\\" width=\"700\">"
   ]
  },
  {
   "cell_type": "code",
   "execution_count": 1,
   "metadata": {},
   "outputs": [
    {
     "name": "stdout",
     "output_type": "stream",
     "text": [
      "Number of variables = 3\n",
      "Number of constraints = 3\n",
      "Solution:\n",
      "Objective value = 186000.0\n",
      "E = 1400.0\n",
      "I = 800.0\n",
      "C = 0.0\n",
      "\n",
      "Advanced usage:\n",
      "Problem solved in 59.000000 milliseconds\n",
      "Problem solved in 2 iterations\n",
      "Problem solved in 1 branch-and-bound nodes\n"
     ]
    }
   ],
   "source": [
    "from ortools.linear_solver import pywraplp\n",
    "\n",
    "\n",
    "def main():\n",
    "    # Create the mip solver with the SCIP backend.\n",
    "    solver = pywraplp.Solver.CreateSolver('SCIP')\n",
    "\n",
    "    infinity = solver.infinity()\n",
    "    \n",
    "    E = solver.IntVar(0.0, infinity, 'E')\n",
    "    I = solver.IntVar(0.0, infinity, 'I')\n",
    "    C = solver.IntVar(0.0, infinity, 'C')\n",
    "\n",
    "    print('Number of variables =', solver.NumVariables())\n",
    "\n",
    "    solver.Add(4*E + 3*I + 7*C <= 9000)\n",
    "    solver.Add(2*E + 4*I + 3*C <= 6000)\n",
    "    solver.Add(2*E + 3*I + 4*C <= 5200)\n",
    "\n",
    "    print('Number of constraints =', solver.NumConstraints())\n",
    "\n",
    "    solver.Maximize(70*E + 110*I + 110*C)\n",
    "\n",
    "    status = solver.Solve()\n",
    "\n",
    "    if status == pywraplp.Solver.OPTIMAL:\n",
    "        print('Solution:')\n",
    "        print('Objective value =', solver.Objective().Value())\n",
    "        print('E =', E.solution_value())\n",
    "        print('I =', I.solution_value())\n",
    "        print('C =', C.solution_value())\n",
    "    else:\n",
    "        print('The problem does not have an optimal solution.')\n",
    "\n",
    "    print('\\nAdvanced usage:')\n",
    "    print('Problem solved in %f milliseconds' % solver.wall_time())\n",
    "    print('Problem solved in %d iterations' % solver.iterations())\n",
    "    print('Problem solved in %d branch-and-bound nodes' % solver.nodes())\n",
    "\n",
    "\n",
    "if __name__ == '__main__':\n",
    "    main()"
   ]
  },
  {
   "cell_type": "markdown",
   "metadata": {},
   "source": [
    "<img src=\"https://github.com/amirkfard/CVL609/blob/main/img/mip_104.webp?raw=1\\\" width=\"700\">\n",
    "<img src=\"https://github.com/amirkfard/CVL609/blob/main/img/mip_105.webp?raw=1\\\" width=\"700\">\n",
    "<img src=\"https://github.com/amirkfard/CVL609/blob/main/img/mip_106.webp?raw=1\\\" width=\"700\">\n",
    "<img src=\"https://github.com/amirkfard/CVL609/blob/main/img/mip_107.webp?raw=1\\\" width=\"700\">\n",
    "<img src=\"https://github.com/amirkfard/CVL609/blob/main/img/mip_108.webp?raw=1\\\" width=\"700\">\n",
    "<img src=\"https://github.com/amirkfard/CVL609/blob/main/img/mip_109.webp?raw=1\\\" width=\"700\">\n",
    "<img src=\"https://github.com/amirkfard/CVL609/blob/main/img/mip_1010.webp?raw=1\\\" width=\"700\">\n",
    "<img src=\"https://github.com/amirkfard/CVL609/blob/main/img/mip_1011.webp?raw=1\\\" width=\"700\">"
   ]
  },
  {
   "cell_type": "code",
   "execution_count": 9,
   "metadata": {},
   "outputs": [
    {
     "name": "stdout",
     "output_type": "stream",
     "text": [
      "Number of variables = 11\n",
      "Number of constraints = 7\n",
      "Solution:\n",
      "Objective value = 13000.0\n",
      "E = 1000.0\n",
      "I = 800.0\n",
      "C = 200.0\n",
      "dTn = 0.0\n",
      "dTp = 0.0\n",
      "dEn = 0.0\n",
      "dEp = 0.0\n",
      "dIn = 0.0\n",
      "dIp = 28000.0\n",
      "dCn = 13000.0\n",
      "dCp = -0.0\n",
      "\n",
      "Advanced usage:\n",
      "Problem solved in 5.000000 milliseconds\n",
      "Problem solved in 5 iterations\n",
      "Problem solved in 1 branch-and-bound nodes\n"
     ]
    }
   ],
   "source": [
    "from ortools.linear_solver import pywraplp\n",
    "\n",
    "\n",
    "def main():\n",
    "    # Create the mip solver with the SCIP backend.\n",
    "    solver = pywraplp.Solver.CreateSolver('SCIP')\n",
    "\n",
    "    infinity = solver.infinity()\n",
    "    \n",
    "    E = solver.IntVar(0.0, infinity, 'E')\n",
    "    I = solver.IntVar(0.0, infinity, 'I')\n",
    "    C = solver.IntVar(0.0, infinity, 'C')\n",
    "    dTp = solver.NumVar(0.0, infinity, 'dTp')\n",
    "    dTn = solver.NumVar(0.0, infinity, 'dTn')\n",
    "    dEp = solver.NumVar(0.0, infinity, 'dEp')\n",
    "    dEn = solver.NumVar(0.0, infinity, 'dEn')\n",
    "    dIp = solver.NumVar(0.0, infinity, 'dIp')\n",
    "    dIn = solver.NumVar(0.0, infinity, 'dIn')\n",
    "    dCp = solver.NumVar(0.0, infinity, 'dCp')\n",
    "    dCn = solver.NumVar(0.0, infinity, 'dCn')\n",
    "\n",
    "    print('Number of variables =', solver.NumVariables())\n",
    "\n",
    "    solver.Add(4*E + 3*I + 7*C <= 9000)\n",
    "    solver.Add(2*E + 4*I + 3*C <= 6000)\n",
    "    solver.Add(2*E + 3*I + 4*C <= 5200)\n",
    "    \n",
    "    solver.Add(70*E + 110*I + 110*C + dTn - dTp == 180000)\n",
    "    solver.Add(70*E + dEn - dEp == 70000)\n",
    "    solver.Add(110*I + dIn - dIp == 60000)\n",
    "    solver.Add(110*C + dCn - dCp == 35000)\n",
    "\n",
    "    print('Number of constraints =', solver.NumConstraints())\n",
    "\n",
    "    solver.Minimize(5*dTn + dEn + dIn + dCn)\n",
    "\n",
    "    status = solver.Solve()\n",
    "\n",
    "    if status == pywraplp.Solver.OPTIMAL:\n",
    "        print('Solution:')\n",
    "        print('Objective value =', round(solver.Objective().Value(),1))\n",
    "        print('E =', E.solution_value())\n",
    "        print('I =', I.solution_value())\n",
    "        print('C =', C.solution_value())\n",
    "        print('dTn =', round(dTn.solution_value(),1))\n",
    "        print('dTp =', round(dTp.solution_value(),1))\n",
    "        print('dEn =', round(dEn.solution_value(),1))\n",
    "        print('dEp =', round(dEp.solution_value(),1))\n",
    "        print('dIn =', round(dIn.solution_value(),1))\n",
    "        print('dIp =', round(dIp.solution_value(),1))\n",
    "        print('dCn =', round(dCn.solution_value(),1))\n",
    "        print('dCp =', round(dCp.solution_value(),1))\n",
    "    else:\n",
    "        print('The problem does not have an optimal solution.')\n",
    "\n",
    "    print('\\nAdvanced usage:')\n",
    "    print('Problem solved in %f milliseconds' % solver.wall_time())\n",
    "    print('Problem solved in %d iterations' % solver.iterations())\n",
    "    print('Problem solved in %d branch-and-bound nodes' % solver.nodes())\n",
    "\n",
    "\n",
    "if __name__ == '__main__':\n",
    "    main()"
   ]
  },
  {
   "cell_type": "markdown",
   "metadata": {},
   "source": [
    "<img src=\"https://github.com/amirkfard/CVL609/blob/main/img/mip_1012.webp?raw=1\\\" width=\"700\">\n",
    "<img src=\"https://github.com/amirkfard/CVL609/blob/main/img/mip_1013.webp?raw=1\\\" width=\"700\">\n",
    "<img src=\"https://github.com/amirkfard/CVL609/blob/main/img/mip_1014.webp?raw=1\\\" width=\"700\">\n",
    "\n",
    "## R1 : First Goal\n",
    "<img src=\"https://github.com/amirkfard/CVL609/blob/main/img/mip_1015.webp?raw=1\\\" width=\"700\">"
   ]
  },
  {
   "cell_type": "code",
   "execution_count": 15,
   "metadata": {},
   "outputs": [
    {
     "name": "stdout",
     "output_type": "stream",
     "text": [
      "Number of variables = 12\n",
      "Number of constraints = 7\n",
      "Solution:\n",
      "Objective value = 0.0\n",
      "E = 560.0\n",
      "I = 1040.0\n",
      "C = 240.0\n",
      "dTn = 0.0\n",
      "dTp = 0.0\n",
      "dEn = 70000.0\n",
      "dEp = 39200.0\n",
      "dIn = 60000.0\n",
      "dIp = 114400.0\n",
      "dCn = 35000.0\n",
      "dCp = 26400.0\n",
      "\n",
      "Advanced usage:\n",
      "Problem solved in 5.000000 milliseconds\n",
      "Problem solved in 4 iterations\n",
      "Problem solved in 1 branch-and-bound nodes\n"
     ]
    }
   ],
   "source": [
    "from ortools.linear_solver import pywraplp\n",
    "\n",
    "\n",
    "def main():\n",
    "    # Create the mip solver with the SCIP backend.\n",
    "    solver = pywraplp.Solver.CreateSolver('SCIP')\n",
    "\n",
    "    infinity = solver.infinity()\n",
    "    \n",
    "    E = solver.IntVar(0.0, infinity, 'E')\n",
    "    I = solver.IntVar(0.0, infinity, 'I')\n",
    "    C = solver.IntVar(0.0, infinity, 'C')\n",
    "    dTp = solver.NumVar(0.0, infinity, 'dTp')\n",
    "    dTn = solver.NumVar(0.0, infinity, 'dTn')\n",
    "    dEp = solver.NumVar(0.0, infinity, 'dEp')\n",
    "    dEn = solver.NumVar(0.0, infinity, 'dEn')\n",
    "    dIp = solver.NumVar(0.0, infinity, 'dIp')\n",
    "    dIn = solver.NumVar(0.0, infinity, 'dIn')\n",
    "    dCp = solver.NumVar(0.0, infinity, 'dCp')\n",
    "    dCn = solver.NumVar(0.0, infinity, 'dCn')\n",
    "    dSn = solver.NumVar(0.0, infinity, 'dSn')\n",
    "\n",
    "    print('Number of variables =', solver.NumVariables())\n",
    "\n",
    "    #solver.Add(4*E + 3*I + 7*C <= 9000)\n",
    "    solver.Add(2*E + 4*I + 3*C <= 6000)\n",
    "    solver.Add(2*E + 3*I + 4*C <= 5200)\n",
    "    \n",
    "    solver.Add(70*E + 110*I + 110*C + dTn - dTp == 180000)\n",
    "    solver.Add(4*E + 3*I + 7*C + dSn == 9000)\n",
    "    solver.Add(70*E + dEn - dEp == 70000)\n",
    "    solver.Add(110*I + dIn - dIp == 60000)\n",
    "    solver.Add(110*C + dCn - dCp == 35000)\n",
    "\n",
    "    print('Number of constraints =', solver.NumConstraints())\n",
    "\n",
    "    solver.Minimize(dTn)\n",
    "\n",
    "    status = solver.Solve()\n",
    "\n",
    "    if status == pywraplp.Solver.OPTIMAL:\n",
    "        print('Solution:')\n",
    "        print('Objective value =', round(solver.Objective().Value(),1))\n",
    "        print('E =', E.solution_value())\n",
    "        print('I =', I.solution_value())\n",
    "        print('C =', C.solution_value())\n",
    "        print('dTn =', round(dTn.solution_value(),1))\n",
    "        print('dTp =', round(dTp.solution_value(),1))\n",
    "        print('dEn =', round(dEn.solution_value(),1))\n",
    "        print('dEp =', round(dEp.solution_value(),1))\n",
    "        print('dIn =', round(dIn.solution_value(),1))\n",
    "        print('dIp =', round(dIp.solution_value(),1))\n",
    "        print('dCn =', round(dCn.solution_value(),1))\n",
    "        print('dCp =', round(dCp.solution_value(),1))\n",
    "    else:\n",
    "        print('The problem does not have an optimal solution.')\n",
    "\n",
    "    print('\\nAdvanced usage:')\n",
    "    print('Problem solved in %f milliseconds' % solver.wall_time())\n",
    "    print('Problem solved in %d iterations' % solver.iterations())\n",
    "    print('Problem solved in %d branch-and-bound nodes' % solver.nodes())\n",
    "\n",
    "\n",
    "if __name__ == '__main__':\n",
    "    main()"
   ]
  },
  {
   "cell_type": "markdown",
   "metadata": {},
   "source": [
    "## R2 :  Goal 5\n",
    "<img src=\"https://github.com/amirkfard/CVL609/blob/main/img/mip_1016.webp?raw=1\\\" width=\"700\">"
   ]
  },
  {
   "cell_type": "code",
   "execution_count": 16,
   "metadata": {},
   "outputs": [
    {
     "name": "stdout",
     "output_type": "stream",
     "text": [
      "Number of variables = 12\n",
      "Number of constraints = 8\n",
      "Solution:\n",
      "Objective value = 0.0\n",
      "E = 1956.0\n",
      "I = 392.0\n",
      "C = 0.0\n",
      "dTn = 0.0\n",
      "dTp = 40.0\n",
      "dEn = 70000.0\n",
      "dEp = 136920.0\n",
      "dIn = 60000.0\n",
      "dIp = 43120.0\n",
      "dCn = 35000.0\n",
      "dCp = 0.0\n",
      "\n",
      "Advanced usage:\n",
      "Problem solved in 41.000000 milliseconds\n",
      "Problem solved in 15 iterations\n",
      "Problem solved in 1 branch-and-bound nodes\n"
     ]
    }
   ],
   "source": [
    "from ortools.linear_solver import pywraplp\n",
    "\n",
    "\n",
    "def main():\n",
    "    # Create the mip solver with the SCIP backend.\n",
    "    solver = pywraplp.Solver.CreateSolver('SCIP')\n",
    "\n",
    "    infinity = solver.infinity()\n",
    "    \n",
    "    E = solver.IntVar(0.0, infinity, 'E')\n",
    "    I = solver.IntVar(0.0, infinity, 'I')\n",
    "    C = solver.IntVar(0.0, infinity, 'C')\n",
    "    dTp = solver.NumVar(0.0, infinity, 'dTp')\n",
    "    dTn = solver.NumVar(0.0, infinity, 'dTn')\n",
    "    dEp = solver.NumVar(0.0, infinity, 'dEp')\n",
    "    dEn = solver.NumVar(0.0, infinity, 'dEn')\n",
    "    dIp = solver.NumVar(0.0, infinity, 'dIp')\n",
    "    dIn = solver.NumVar(0.0, infinity, 'dIn')\n",
    "    dCp = solver.NumVar(0.0, infinity, 'dCp')\n",
    "    dCn = solver.NumVar(0.0, infinity, 'dCn')\n",
    "    dSn = solver.NumVar(0.0, infinity, 'dSn')\n",
    "\n",
    "    print('Number of variables =', solver.NumVariables())\n",
    "\n",
    "    #solver.Add(4*E + 3*I + 7*C <= 9000)\n",
    "    solver.Add(2*E + 4*I + 3*C <= 6000)\n",
    "    solver.Add(2*E + 3*I + 4*C <= 5200)\n",
    "    \n",
    "    solver.Add(70*E + 110*I + 110*C + dTn - dTp == 180000)\n",
    "    solver.Add(4*E + 3*I + 7*C + dSn == 9000)\n",
    "    solver.Add(70*E + dEn - dEp == 70000)\n",
    "    solver.Add(110*I + dIn - dIp == 60000)\n",
    "    solver.Add(110*C + dCn - dCp == 35000)\n",
    "    \n",
    "    solver.Add(dTn == 0)\n",
    "\n",
    "    print('Number of constraints =', solver.NumConstraints())\n",
    "\n",
    "    solver.Minimize(dSn)\n",
    "\n",
    "    status = solver.Solve()\n",
    "\n",
    "    if status == pywraplp.Solver.OPTIMAL:\n",
    "        print('Solution:')\n",
    "        print('Objective value =', round(solver.Objective().Value(),1))\n",
    "        print('E =', E.solution_value())\n",
    "        print('I =', I.solution_value())\n",
    "        print('C =', C.solution_value())\n",
    "        print('dTn =', round(dTn.solution_value(),1))\n",
    "        print('dTp =', round(dTp.solution_value(),1))\n",
    "        print('dEn =', round(dEn.solution_value(),1))\n",
    "        print('dEp =', round(dEp.solution_value(),1))\n",
    "        print('dIn =', round(dIn.solution_value(),1))\n",
    "        print('dIp =', round(dIp.solution_value(),1))\n",
    "        print('dCn =', round(dCn.solution_value(),1))\n",
    "        print('dCp =', round(dCp.solution_value(),1))\n",
    "    else:\n",
    "        print('The problem does not have an optimal solution.')\n",
    "\n",
    "    print('\\nAdvanced usage:')\n",
    "    print('Problem solved in %f milliseconds' % solver.wall_time())\n",
    "    print('Problem solved in %d iterations' % solver.iterations())\n",
    "    print('Problem solved in %d branch-and-bound nodes' % solver.nodes())\n",
    "\n",
    "\n",
    "if __name__ == '__main__':\n",
    "    main()"
   ]
  },
  {
   "cell_type": "markdown",
   "metadata": {},
   "source": [
    "## R3 :  Goal 2,3,4\n",
    "<img src=\"https://github.com/amirkfard/CVL609/blob/main/img/mip_1017.webp?raw=1\\\" width=\"700\">"
   ]
  },
  {
   "cell_type": "code",
   "execution_count": 17,
   "metadata": {},
   "outputs": [
    {
     "name": "stdout",
     "output_type": "stream",
     "text": [
      "Number of variables = 12\n",
      "Number of constraints = 9\n",
      "Solution:\n",
      "Objective value = 33840.0\n",
      "E = 1698.0\n",
      "I = 421.0\n",
      "C = 135.0\n",
      "dTn = 0.0\n",
      "dTp = 20.0\n",
      "dEn = 0.0\n",
      "dEp = 48860.0\n",
      "dIn = 13690.0\n",
      "dIp = 0.0\n",
      "dCn = 20150.0\n",
      "dCp = 0.0\n",
      "\n",
      "Advanced usage:\n",
      "Problem solved in 29.000000 milliseconds\n",
      "Problem solved in 6 iterations\n",
      "Problem solved in 1 branch-and-bound nodes\n"
     ]
    }
   ],
   "source": [
    "from ortools.linear_solver import pywraplp\n",
    "\n",
    "\n",
    "def main():\n",
    "    # Create the mip solver with the SCIP backend.\n",
    "    solver = pywraplp.Solver.CreateSolver('SCIP')\n",
    "\n",
    "    infinity = solver.infinity()\n",
    "    \n",
    "    E = solver.IntVar(0.0, infinity, 'E')\n",
    "    I = solver.IntVar(0.0, infinity, 'I')\n",
    "    C = solver.IntVar(0.0, infinity, 'C')\n",
    "    dTp = solver.NumVar(0.0, infinity, 'dTp')\n",
    "    dTn = solver.NumVar(0.0, infinity, 'dTn')\n",
    "    dEp = solver.NumVar(0.0, infinity, 'dEp')\n",
    "    dEn = solver.NumVar(0.0, infinity, 'dEn')\n",
    "    dIp = solver.NumVar(0.0, infinity, 'dIp')\n",
    "    dIn = solver.NumVar(0.0, infinity, 'dIn')\n",
    "    dCp = solver.NumVar(0.0, infinity, 'dCp')\n",
    "    dCn = solver.NumVar(0.0, infinity, 'dCn')\n",
    "    dSn = solver.NumVar(0.0, infinity, 'dSn')\n",
    "\n",
    "    print('Number of variables =', solver.NumVariables())\n",
    "\n",
    "    #solver.Add(4*E + 3*I + 7*C <= 9000)\n",
    "    solver.Add(2*E + 4*I + 3*C <= 6000)\n",
    "    solver.Add(2*E + 3*I + 4*C <= 5200)\n",
    "    \n",
    "    solver.Add(70*E + 110*I + 110*C + dTn - dTp == 180000)\n",
    "    solver.Add(4*E + 3*I + 7*C + dSn == 9000)\n",
    "    solver.Add(70*E + dEn - dEp == 70000)\n",
    "    solver.Add(110*I + dIn - dIp == 60000)\n",
    "    solver.Add(110*C + dCn - dCp == 35000)\n",
    "    \n",
    "    solver.Add(dTn == 0)\n",
    "    solver.Add(dSn == 0)\n",
    "    \n",
    "    print('Number of constraints =', solver.NumConstraints())\n",
    "\n",
    "    solver.Minimize(dEn + dIn + dCn)\n",
    "\n",
    "    status = solver.Solve()\n",
    "\n",
    "    if status == pywraplp.Solver.OPTIMAL:\n",
    "        print('Solution:')\n",
    "        print('Objective value =', round(solver.Objective().Value(),1))\n",
    "        print('E =', E.solution_value())\n",
    "        print('I =', I.solution_value())\n",
    "        print('C =', C.solution_value())\n",
    "        print('dTn =', round(dTn.solution_value(),1))\n",
    "        print('dTp =', round(dTp.solution_value(),1))\n",
    "        print('dEn =', round(dEn.solution_value(),1))\n",
    "        print('dEp =', round(dEp.solution_value(),1))\n",
    "        print('dIn =', round(dIn.solution_value(),1))\n",
    "        print('dIp =', round(dIp.solution_value(),1))\n",
    "        print('dCn =', round(dCn.solution_value(),1))\n",
    "        print('dCp =', round(dCp.solution_value(),1))\n",
    "    else:\n",
    "        print('The problem does not have an optimal solution.')\n",
    "\n",
    "    print('\\nAdvanced usage:')\n",
    "    print('Problem solved in %f milliseconds' % solver.wall_time())\n",
    "    print('Problem solved in %d iterations' % solver.iterations())\n",
    "    print('Problem solved in %d branch-and-bound nodes' % solver.nodes())\n",
    "\n",
    "\n",
    "if __name__ == '__main__':\n",
    "    main()"
   ]
  },
  {
   "cell_type": "markdown",
   "metadata": {},
   "source": [
    " ## Assignment Problem"
   ]
  },
  {
   "cell_type": "markdown",
   "metadata": {},
   "source": [
    "In the example there are five workers (numbered 0-4) and four tasks (numbered 0-3).\n",
    "The costs of assigning workers to tasks are shown in the following table.\n",
    "\n",
    "<img src=\"https://github.com/amirkfard/CVL609/blob/main/img/mip_1018.webp?raw=1\\\" width=\"700\">\n",
    "The problem is to assign each worker to at most one task, with no two workers performing the same task, while minimizing the total cost. Since there are more workers than tasks, one worker will not be assigned a task."
   ]
  },
  {
   "cell_type": "markdown",
   "metadata": {},
   "source": [
    "### Declare the solver\n",
    "In any MIP program, you start by importing the linear solver wrapper and declaring the MIP solver, as shown in the previous MIP example."
   ]
  },
  {
   "cell_type": "code",
   "execution_count": null,
   "metadata": {},
   "outputs": [],
   "source": [
    "from ortools.linear_solver import pywraplp"
   ]
  },
  {
   "cell_type": "markdown",
   "metadata": {},
   "source": [
    "### Create the data\n",
    "The following code creates arrays containing the data for the example: the variable coefficients for the constraints and/or objective function, and/or bounds for the constraints."
   ]
  },
  {
   "cell_type": "code",
   "execution_count": null,
   "metadata": {},
   "outputs": [],
   "source": [
    "costs = [\n",
    "    [90, 80, 75, 70],\n",
    "    [35, 85, 55, 65],\n",
    "    [125, 95, 90, 95],\n",
    "    [45, 110, 95, 115],\n",
    "    [50, 100, 90, 100],\n",
    "]\n",
    "num_workers = len(costs)\n",
    "num_tasks = len(costs[0])"
   ]
  },
  {
   "cell_type": "markdown",
   "metadata": {},
   "source": [
    "### Instantiate the solver\n",
    "The following code instantiates the solver."
   ]
  },
  {
   "cell_type": "code",
   "execution_count": null,
   "metadata": {},
   "outputs": [],
   "source": [
    "# Create the mip solver with the SCIP backend.\n",
    "solver = pywraplp.Solver.CreateSolver('SCIP')"
   ]
  },
  {
   "cell_type": "markdown",
   "metadata": {},
   "source": [
    "### Define the variables\n",
    "The following code defines the variables for the example in a loop. For large problems, this is easier than defining the variables individually."
   ]
  },
  {
   "cell_type": "code",
   "execution_count": null,
   "metadata": {},
   "outputs": [],
   "source": [
    "# x[i, j] is an array of 0-1 variables, which will be 1\n",
    "# if worker i is assigned to task j.\n",
    "x = {}\n",
    "for i in range(num_workers):\n",
    "    for j in range(num_tasks):\n",
    "        x[i, j] = solver.IntVar(0, 1, '')"
   ]
  },
  {
   "cell_type": "markdown",
   "metadata": {},
   "source": [
    "### Define the constraints\n",
    "\n",
    "The following code creates the constraints for the example, using loop."
   ]
  },
  {
   "cell_type": "code",
   "execution_count": null,
   "metadata": {},
   "outputs": [],
   "source": [
    "# Each worker is assigned to at most 1 task.\n",
    "for i in range(num_workers):\n",
    "    solver.Add(solver.Sum([x[i, j] for j in range(num_tasks)]) <= 1)\n",
    "\n",
    "# Each task is assigned to exactly one worker.\n",
    "for j in range(num_tasks):\n",
    "    solver.Add(solver.Sum([x[i, j] for i in range(num_workers)]) == 1)"
   ]
  },
  {
   "cell_type": "markdown",
   "metadata": {},
   "source": [
    "### Define the objective\n",
    "The following code defines the objective function for the example. The value of the objective function is the total cost over all variables that are assigned the value 1 by the solver."
   ]
  },
  {
   "cell_type": "code",
   "execution_count": null,
   "metadata": {},
   "outputs": [],
   "source": [
    "objective_terms = []\n",
    "for i in range(num_workers):\n",
    "    for j in range(num_tasks):\n",
    "        objective_terms.append(costs[i][j] * x[i, j])\n",
    "solver.Minimize(solver.Sum(objective_terms))"
   ]
  },
  {
   "cell_type": "markdown",
   "metadata": {},
   "source": [
    "### Invoke the solver\n",
    "The following code invokes the solver."
   ]
  },
  {
   "cell_type": "code",
   "execution_count": null,
   "metadata": {},
   "outputs": [],
   "source": [
    "status = solver.Solve()"
   ]
  },
  {
   "cell_type": "markdown",
   "metadata": {},
   "source": [
    "### Print the solution\n",
    "The following code prints the solution to the problem."
   ]
  },
  {
   "cell_type": "code",
   "execution_count": null,
   "metadata": {},
   "outputs": [],
   "source": [
    "if status == pywraplp.Solver.OPTIMAL or status == pywraplp.Solver.FEASIBLE:\n",
    "    print(f'Total cost = {solver.Objective().Value()}\\n')\n",
    "    for i in range(num_workers):\n",
    "        for j in range(num_tasks):\n",
    "            # Test if x[i,j] is 1 (with tolerance for floating point arithmetic).\n",
    "            if x[i, j].solution_value() > 0.5:\n",
    "                print(f'Worker {i} assigned to task {j}.' +\n",
    "                      f' Cost: {costs[i][j]}')\n",
    "else:\n",
    "    print('No solution found.')"
   ]
  },
  {
   "cell_type": "markdown",
   "metadata": {},
   "source": [
    "### Complete programs\n",
    "Here are the complete programs for the MIP solution."
   ]
  },
  {
   "cell_type": "code",
   "execution_count": 18,
   "metadata": {},
   "outputs": [
    {
     "name": "stdout",
     "output_type": "stream",
     "text": [
      "Total cost = 265.0\n",
      "\n",
      "Worker 0 assigned to task 3. Cost: 70\n",
      "Worker 1 assigned to task 2. Cost: 55\n",
      "Worker 2 assigned to task 1. Cost: 95\n",
      "Worker 3 assigned to task 0. Cost: 45\n"
     ]
    }
   ],
   "source": [
    "from ortools.linear_solver import pywraplp\n",
    "\n",
    "\n",
    "def main():\n",
    "    # Data\n",
    "    costs = [\n",
    "        [90, 80, 75, 70],\n",
    "        [35, 85, 55, 65],\n",
    "        [125, 95, 90, 95],\n",
    "        [45, 110, 95, 115],\n",
    "        [50, 100, 90, 100],\n",
    "    ]\n",
    "    num_workers = len(costs)\n",
    "    num_tasks = len(costs[0])\n",
    "\n",
    "    # Solver\n",
    "    # Create the mip solver with the SCIP backend.\n",
    "    solver = pywraplp.Solver.CreateSolver('SCIP')\n",
    "\n",
    "\n",
    "    # Variables\n",
    "    # x[i, j] is an array of 0-1 variables, which will be 1\n",
    "    # if worker i is assigned to task j.\n",
    "    x = {}\n",
    "    for i in range(num_workers):\n",
    "        for j in range(num_tasks):\n",
    "            x[i, j] = solver.IntVar(0, 1, '')\n",
    "\n",
    "    # Constraints\n",
    "    # Each worker is assigned to at most 1 task.\n",
    "    for i in range(num_workers):\n",
    "        solver.Add(solver.Sum([x[i, j] for j in range(num_tasks)]) <= 1)\n",
    "\n",
    "    # Each task is assigned to exactly one worker.\n",
    "    for j in range(num_tasks):\n",
    "        solver.Add(solver.Sum([x[i, j] for i in range(num_workers)]) == 1)\n",
    "\n",
    "    # Objective\n",
    "    objective_terms = []\n",
    "    for i in range(num_workers):\n",
    "        for j in range(num_tasks):\n",
    "            objective_terms.append(costs[i][j] * x[i, j])\n",
    "    solver.Minimize(solver.Sum(objective_terms))\n",
    "\n",
    "    # Solve\n",
    "    status = solver.Solve()\n",
    "\n",
    "    # Print solution.\n",
    "    if status == pywraplp.Solver.OPTIMAL or status == pywraplp.Solver.FEASIBLE:\n",
    "        print(f'Total cost = {solver.Objective().Value()}\\n')\n",
    "        for i in range(num_workers):\n",
    "            for j in range(num_tasks):\n",
    "                # Test if x[i,j] is 1 (with tolerance for floating point arithmetic).\n",
    "                if x[i, j].solution_value() > 0.5:\n",
    "                    print(f'Worker {i} assigned to task {j}.' +\n",
    "                          f' Cost: {costs[i][j]}')\n",
    "    else:\n",
    "        print('No solution found.')\n",
    "\n",
    "\n",
    "if __name__ == '__main__':\n",
    "    main()"
   ]
  },
  {
   "cell_type": "markdown",
   "metadata": {},
   "source": []
  }
 ],
 "metadata": {
  "kernelspec": {
   "display_name": "Python 3",
   "language": "python",
   "name": "python3"
  },
  "language_info": {
   "codemirror_mode": {
    "name": "ipython",
    "version": 3
   },
   "file_extension": ".py",
   "mimetype": "text/x-python",
   "name": "python",
   "nbconvert_exporter": "python",
   "pygments_lexer": "ipython3",
   "version": "3.7.6"
  }
 },
 "nbformat": 4,
 "nbformat_minor": 4
}
