{
 "cells": [
  {
   "cell_type": "markdown",
   "metadata": {},
   "source": [
    "\n",
    "## Max Flow Optimization Example\n",
    "\n",
    "In this tutorial, we want to solve the following examples:"
   ]
  },
  {
   "cell_type": "markdown",
   "metadata": {},
   "source": [
    " "
   ]
  },
  {
   "cell_type": "markdown",
   "metadata": {},
   "source": [
    "<img src=\"https://github.com/amirkfard/CVL609/blob/main/img/mip_91.webp?raw=1\\\" width=\"700\">\n",
    "<img src=\"https://github.com/amirkfard/CVL609/blob/main/img/mip_92.webp?raw=1\\\" width=\"700\">\n",
    "<img src=\"https://github.com/amirkfard/CVL609/blob/main/img/mip_93.webp?raw=1\\\" width=\"700\">\n",
    "<img src=\"https://github.com/amirkfard/CVL609/blob/main/img/mip_94.webp?raw=1\\\" width=\"700\">\n",
    "<img src=\"https://github.com/amirkfard/CVL609/blob/main/img/mip_95.webp?raw=1\\\" width=\"700\">\n",
    "<img src=\"https://github.com/amirkfard/CVL609/blob/main/img/mip_96.webp?raw=1\\\" width=\"700\">"
   ]
  },
  {
   "cell_type": "markdown",
   "metadata": {},
   "source": [
    "### Install OR-Tools"
   ]
  },
  {
   "cell_type": "code",
   "execution_count": null,
   "metadata": {},
   "outputs": [],
   "source": [
    "pip install --upgrade --user ortools"
   ]
  },
  {
   "cell_type": "markdown",
   "metadata": {},
   "source": [
    "### Declare the solver\n",
    "In any MIP program, you start by importing the linear solver wrapper and declaring the MIP solver, as shown in the previous MIP example."
   ]
  },
  {
   "cell_type": "code",
   "execution_count": 10,
   "metadata": {},
   "outputs": [],
   "source": [
    "from ortools.linear_solver import pywraplp"
   ]
  },
  {
   "cell_type": "markdown",
   "metadata": {},
   "source": [
    "### Create the data\n",
    "The following code creates arrays containing the data for the example: the variable coefficients for the constraints and objective function, and bounds for the constraints."
   ]
  },
  {
   "cell_type": "code",
   "execution_count": 24,
   "metadata": {},
   "outputs": [],
   "source": [
    "Nodes = [i for i in range(1,7)]\n",
    "Capacities = [[0,3,10,2,0,0],\n",
    "              [1,0,0,1,0,2],\n",
    "              [0,0,0,3,2,0],\n",
    "              [0,1,1,0,0,1],\n",
    "              [0,0,1,0,0,6],\n",
    "              [1000,2,0,1,0,0]]\n"
   ]
  },
  {
   "cell_type": "code",
   "execution_count": null,
   "metadata": {},
   "outputs": [],
   "source": []
  },
  {
   "cell_type": "markdown",
   "metadata": {},
   "source": [
    "### Instantiate the solver\n",
    "The following code instantiates the solver."
   ]
  },
  {
   "cell_type": "code",
   "execution_count": 31,
   "metadata": {},
   "outputs": [],
   "source": [
    "# Create the mip solver with the SCIP backend.\n",
    "solver = pywraplp.Solver.CreateSolver('SCIP')"
   ]
  },
  {
   "cell_type": "markdown",
   "metadata": {},
   "source": [
    "### Define the variables\n",
    "The following code defines the variables for the example in a loop. For large problems, this is easier than defining the variables individually, as in the previous example."
   ]
  },
  {
   "cell_type": "code",
   "execution_count": 32,
   "metadata": {},
   "outputs": [
    {
     "name": "stdout",
     "output_type": "stream",
     "text": [
      "Number of variables = 36\n"
     ]
    }
   ],
   "source": [
    "infinity = solver.infinity()\n",
    "x = {}\n",
    "for i in Nodes:\n",
    "    for j in Nodes:\n",
    "        x[i,j] = solver.IntVar(0, infinity, f'x[{i},{j}]')\n",
    "\n",
    "print('Number of variables =', solver.NumVariables())"
   ]
  },
  {
   "cell_type": "code",
   "execution_count": 33,
   "metadata": {},
   "outputs": [
    {
     "data": {
      "text/plain": [
       "{(1, 1): x[1,1],\n",
       " (1, 2): x[1,2],\n",
       " (1, 3): x[1,3],\n",
       " (1, 4): x[1,4],\n",
       " (1, 5): x[1,5],\n",
       " (1, 6): x[1,6],\n",
       " (2, 1): x[2,1],\n",
       " (2, 2): x[2,2],\n",
       " (2, 3): x[2,3],\n",
       " (2, 4): x[2,4],\n",
       " (2, 5): x[2,5],\n",
       " (2, 6): x[2,6],\n",
       " (3, 1): x[3,1],\n",
       " (3, 2): x[3,2],\n",
       " (3, 3): x[3,3],\n",
       " (3, 4): x[3,4],\n",
       " (3, 5): x[3,5],\n",
       " (3, 6): x[3,6],\n",
       " (4, 1): x[4,1],\n",
       " (4, 2): x[4,2],\n",
       " (4, 3): x[4,3],\n",
       " (4, 4): x[4,4],\n",
       " (4, 5): x[4,5],\n",
       " (4, 6): x[4,6],\n",
       " (5, 1): x[5,1],\n",
       " (5, 2): x[5,2],\n",
       " (5, 3): x[5,3],\n",
       " (5, 4): x[5,4],\n",
       " (5, 5): x[5,5],\n",
       " (5, 6): x[5,6],\n",
       " (6, 1): x[6,1],\n",
       " (6, 2): x[6,2],\n",
       " (6, 3): x[6,3],\n",
       " (6, 4): x[6,4],\n",
       " (6, 5): x[6,5],\n",
       " (6, 6): x[6,6]}"
      ]
     },
     "execution_count": 33,
     "metadata": {},
     "output_type": "execute_result"
    }
   ],
   "source": [
    "x"
   ]
  },
  {
   "cell_type": "markdown",
   "metadata": {},
   "source": [
    "### Define the constraints\n",
    "\n",
    "The following code creates the constraints for the example, using loop.\n"
   ]
  },
  {
   "cell_type": "code",
   "execution_count": 34,
   "metadata": {},
   "outputs": [
    {
     "name": "stdout",
     "output_type": "stream",
     "text": [
      "Number of constraints = 42\n"
     ]
    }
   ],
   "source": [
    "# Capacity of each arc:\n",
    "# You can also define this constraint as an upper bound of each decision variable in previous step\n",
    "for i in Nodes:\n",
    "    for j in Nodes:\n",
    "        solver.Add(x[i,j] <= Capacities[i-1][j-1]) # this -1 is because indexing in python starts from 0. \n",
    "                                                   # E.g. the capacity of node 1 to node 2 is Capacities[0,1]\n",
    "\n",
    "# flow balance at each node:\n",
    "for i in Nodes:\n",
    "    inflow = []\n",
    "    outflow = []\n",
    "    for j in Nodes:\n",
    "        inflow.append(x[j,i])\n",
    "        outflow.append(x[i,j])\n",
    "    solver.Add(sum(inflow) - sum(outflow)  == 0)\n",
    "\n",
    "print('Number of constraints =', solver.NumConstraints())"
   ]
  },
  {
   "cell_type": "markdown",
   "metadata": {},
   "source": [
    "### Define the objective\n",
    "The following code defines the objective function for the example."
   ]
  },
  {
   "cell_type": "code",
   "execution_count": 35,
   "metadata": {},
   "outputs": [],
   "source": [
    "\n",
    "solver.Maximize(x[6,1])"
   ]
  },
  {
   "cell_type": "markdown",
   "metadata": {},
   "source": [
    "### Call the solver\n",
    "The following code calls the solver."
   ]
  },
  {
   "cell_type": "code",
   "execution_count": 39,
   "metadata": {},
   "outputs": [],
   "source": [
    "status = solver.Solve()"
   ]
  },
  {
   "cell_type": "markdown",
   "metadata": {},
   "source": [
    "### Display the solution\n",
    "The following code displays the solution."
   ]
  },
  {
   "cell_type": "code",
   "execution_count": 38,
   "metadata": {
    "scrolled": false
   },
   "outputs": [
    {
     "name": "stdout",
     "output_type": "stream",
     "text": [
      "Objective value = 5.0\n",
      "x[1,2]  =  2.0\n",
      "x[1,3]  =  3.0\n",
      "x[2,6]  =  2.0\n",
      "x[3,4]  =  1.0\n",
      "x[3,5]  =  2.0\n",
      "x[4,6]  =  1.0\n",
      "x[5,6]  =  2.0\n",
      "x[6,1]  =  5.0\n",
      "\n",
      "Problem solved in 333265.000000 milliseconds\n",
      "Problem solved in 2 iterations\n",
      "Problem solved in 1 branch-and-bound nodes\n"
     ]
    }
   ],
   "source": [
    "if status == pywraplp.Solver.OPTIMAL:\n",
    "    print('Objective value =', solver.Objective().Value())\n",
    "    for i in Nodes:\n",
    "        for j in Nodes:\n",
    "            if x[i,j].solution_value() != 0:  # Just print the variables with non-zero value\n",
    "                print(x[i,j].name(), ' = ', x[i,j].solution_value())\n",
    "    print()\n",
    "    print('Problem solved in %f milliseconds' % solver.wall_time())\n",
    "    print('Problem solved in %d iterations' % solver.iterations())\n",
    "    print('Problem solved in %d branch-and-bound nodes' % solver.nodes())\n",
    "else:\n",
    "    print('The problem does not have an optimal solution.')"
   ]
  },
  {
   "cell_type": "markdown",
   "metadata": {},
   "source": [
    "### Complete programs\n",
    "Here are the complete programs."
   ]
  },
  {
   "cell_type": "code",
   "execution_count": 41,
   "metadata": {},
   "outputs": [
    {
     "name": "stdout",
     "output_type": "stream",
     "text": [
      "Number of variables = 36\n",
      "Number of constraints = 42\n",
      "Objective value = 5.0\n",
      "x[1,2]  =  2.0\n",
      "x[1,3]  =  3.0\n",
      "x[2,6]  =  2.0\n",
      "x[3,4]  =  1.0\n",
      "x[3,5]  =  2.0\n",
      "x[4,6]  =  1.0\n",
      "x[5,6]  =  2.0\n",
      "x[6,1]  =  5.0\n",
      "\n",
      "Problem solved in 14.000000 milliseconds\n",
      "Problem solved in 2 iterations\n",
      "Problem solved in 1 branch-and-bound nodes\n"
     ]
    }
   ],
   "source": [
    "solver = pywraplp.Solver.CreateSolver('SCIP')\n",
    "\n",
    "def maxflowproblem():\n",
    "    infinity = solver.infinity()\n",
    "    x = {}\n",
    "    for i in Nodes:\n",
    "        for j in Nodes:\n",
    "            x[i,j] = solver.IntVar(0, infinity, f'x[{i},{j}]')\n",
    "\n",
    "    print('Number of variables =', solver.NumVariables())\n",
    "\n",
    "\n",
    "    # Capacity of each arc:\n",
    "    # You can also define this constraint as an upper bound of each decision variable in previous step\n",
    "    for i in Nodes:\n",
    "        for j in Nodes:\n",
    "            solver.Add(x[i,j] <= Capacities[i-1][j-1]) # this -1 is because indexing in python starts from 0. \n",
    "                                                       # E.g. the capacity of node 1 to node 2 is Capacities[0,1]\n",
    "\n",
    "    # flow balance at each node:\n",
    "    for i in Nodes:\n",
    "        inflow = []\n",
    "        outflow = []\n",
    "        for j in Nodes:\n",
    "            inflow.append(x[j,i])\n",
    "            outflow.append(x[i,j])\n",
    "        solver.Add(sum(inflow) - sum(outflow)  == 0)\n",
    "\n",
    "    print('Number of constraints =', solver.NumConstraints())\n",
    "\n",
    "\n",
    "    # objective\n",
    "    solver.Maximize(x[6,1])\n",
    "\n",
    "    status = solver.Solve()\n",
    "\n",
    "    if status == pywraplp.Solver.OPTIMAL:\n",
    "        print('Objective value =', solver.Objective().Value())\n",
    "        for i in Nodes:\n",
    "            for j in Nodes:\n",
    "                if x[i,j].solution_value() != 0:  # Just print the variables with non-zero value\n",
    "                    print(x[i,j].name(), ' = ', x[i,j].solution_value())\n",
    "        print()\n",
    "        print('Problem solved in %f milliseconds' % solver.wall_time())\n",
    "        print('Problem solved in %d iterations' % solver.iterations())\n",
    "        print('Problem solved in %d branch-and-bound nodes' % solver.nodes())\n",
    "    else:\n",
    "        print('The problem does not have an optimal solution.')\n",
    "        \n",
    "maxflowproblem()"
   ]
  },
  {
   "cell_type": "code",
   "execution_count": null,
   "metadata": {},
   "outputs": [],
   "source": []
  },
  {
   "cell_type": "markdown",
   "metadata": {},
   "source": [
    "## Shortest Path Optimization Example\n"
   ]
  },
  {
   "cell_type": "markdown",
   "metadata": {},
   "source": [
    "<img src=\"https://github.com/amirkfard/CVL609/blob/main/img/mip_97.webp?raw=1\\\" width=\"700\">\n",
    "<img src=\"https://github.com/amirkfard/CVL609/blob/main/img/mip_98.webp?raw=1\\\" width=\"700\">\n",
    "<img src=\"https://github.com/amirkfard/CVL609/blob/main/img/mip_99.webp?raw=1\\\" width=\"700\">\n"
   ]
  },
  {
   "cell_type": "markdown",
   "metadata": {},
   "source": [
    "### Declare the solver\n",
    "In any MIP program, you start by importing the linear solver wrapper and declaring the MIP solver, as shown in the previous MIP example."
   ]
  },
  {
   "cell_type": "code",
   "execution_count": 10,
   "metadata": {},
   "outputs": [],
   "source": [
    "from ortools.linear_solver import pywraplp"
   ]
  },
  {
   "cell_type": "markdown",
   "metadata": {},
   "source": [
    "### Create the data\n",
    "The following code creates arrays containing the data for the example: the variable coefficients for the constraints and objective function, and bounds for the constraints."
   ]
  },
  {
   "cell_type": "code",
   "execution_count": 58,
   "metadata": {},
   "outputs": [],
   "source": [
    "Nodes = [i for i in range(1,7)]\n",
    "m = 10e5  #we define a very large distance value for those nodes that dont have any link\n",
    "Distance = [[m,100,200,m,m,m],\n",
    "              [100,m,50,200,100,m],\n",
    "              [200,50,m,m,40,m],\n",
    "              [m,200,m,m,150,100],\n",
    "              [m,100,40,150,m,100],\n",
    "              [m,m,m,100,100,m]]\n",
    "\n",
    "Balance = [-1,0,0,0,0,1]"
   ]
  },
  {
   "cell_type": "code",
   "execution_count": null,
   "metadata": {},
   "outputs": [],
   "source": []
  },
  {
   "cell_type": "markdown",
   "metadata": {},
   "source": [
    "### Instantiate the solver\n",
    "The following code instantiates the solver."
   ]
  },
  {
   "cell_type": "code",
   "execution_count": 54,
   "metadata": {},
   "outputs": [],
   "source": [
    "# Create the mip solver with the SCIP backend.\n",
    "solver = pywraplp.Solver.CreateSolver('SCIP')"
   ]
  },
  {
   "cell_type": "markdown",
   "metadata": {},
   "source": [
    "### Define the variables\n",
    "The following code defines the variables for the example in a loop. For large problems, this is easier than defining the variables individually, as in the previous example."
   ]
  },
  {
   "cell_type": "code",
   "execution_count": 55,
   "metadata": {},
   "outputs": [
    {
     "name": "stdout",
     "output_type": "stream",
     "text": [
      "Number of variables = 36\n"
     ]
    }
   ],
   "source": [
    "x = {}\n",
    "for i in Nodes:\n",
    "    for j in Nodes:\n",
    "        x[i,j] = solver.BoolVar(f'x[{i},{j}]')  #use BoolVar for binary (boolean) decision variables. Also IntVar(0,1) can be used instead.\n",
    "\n",
    "print('Number of variables =', solver.NumVariables())"
   ]
  },
  {
   "cell_type": "code",
   "execution_count": 53,
   "metadata": {},
   "outputs": [
    {
     "data": {
      "text/plain": [
       "{(1, 1): x[1,1],\n",
       " (1, 2): x[1,2],\n",
       " (1, 3): x[1,3],\n",
       " (1, 4): x[1,4],\n",
       " (1, 5): x[1,5],\n",
       " (1, 6): x[1,6],\n",
       " (2, 1): x[2,1],\n",
       " (2, 2): x[2,2],\n",
       " (2, 3): x[2,3],\n",
       " (2, 4): x[2,4],\n",
       " (2, 5): x[2,5],\n",
       " (2, 6): x[2,6],\n",
       " (3, 1): x[3,1],\n",
       " (3, 2): x[3,2],\n",
       " (3, 3): x[3,3],\n",
       " (3, 4): x[3,4],\n",
       " (3, 5): x[3,5],\n",
       " (3, 6): x[3,6],\n",
       " (4, 1): x[4,1],\n",
       " (4, 2): x[4,2],\n",
       " (4, 3): x[4,3],\n",
       " (4, 4): x[4,4],\n",
       " (4, 5): x[4,5],\n",
       " (4, 6): x[4,6],\n",
       " (5, 1): x[5,1],\n",
       " (5, 2): x[5,2],\n",
       " (5, 3): x[5,3],\n",
       " (5, 4): x[5,4],\n",
       " (5, 5): x[5,5],\n",
       " (5, 6): x[5,6],\n",
       " (6, 1): x[6,1],\n",
       " (6, 2): x[6,2],\n",
       " (6, 3): x[6,3],\n",
       " (6, 4): x[6,4],\n",
       " (6, 5): x[6,5],\n",
       " (6, 6): x[6,6]}"
      ]
     },
     "execution_count": 53,
     "metadata": {},
     "output_type": "execute_result"
    }
   ],
   "source": [
    "x"
   ]
  },
  {
   "cell_type": "markdown",
   "metadata": {},
   "source": [
    "### Define the constraints\n",
    "\n",
    "The following code creates the constraints for the example, using loop.\n"
   ]
  },
  {
   "cell_type": "code",
   "execution_count": 59,
   "metadata": {},
   "outputs": [
    {
     "name": "stdout",
     "output_type": "stream",
     "text": [
      "Number of constraints = 6\n"
     ]
    }
   ],
   "source": [
    "# Capacity of each arc:\n",
    "# You can also define this constraint as an upper bound of each decision variable in previous step\n",
    "\n",
    "# flow balance at each node:\n",
    "for i in Nodes:\n",
    "    inflow = []\n",
    "    outflow = []\n",
    "    for j in Nodes:\n",
    "        inflow.append(x[j,i])\n",
    "        outflow.append(x[i,j])\n",
    "    solver.Add(sum(inflow) - sum(outflow)  == Balance[i-1])\n",
    "\n",
    "print('Number of constraints =', solver.NumConstraints())"
   ]
  },
  {
   "cell_type": "markdown",
   "metadata": {},
   "source": [
    "### Define the objective\n",
    "The following code defines the objective function for the example."
   ]
  },
  {
   "cell_type": "code",
   "execution_count": 60,
   "metadata": {},
   "outputs": [],
   "source": [
    "obj_expr = []\n",
    "for i in Nodes:\n",
    "    for j in Nodes:\n",
    "        obj_expr.append(Distance[i-1][j-1] * x[i,j])\n",
    "solver.Minimize(sum(obj_expr))"
   ]
  },
  {
   "cell_type": "markdown",
   "metadata": {},
   "source": [
    "### Call the solver\n",
    "The following code calls the solver."
   ]
  },
  {
   "cell_type": "code",
   "execution_count": 61,
   "metadata": {},
   "outputs": [],
   "source": [
    "status = solver.Solve()"
   ]
  },
  {
   "cell_type": "markdown",
   "metadata": {},
   "source": [
    "### Display the solution\n",
    "The following code displays the solution."
   ]
  },
  {
   "cell_type": "code",
   "execution_count": 62,
   "metadata": {
    "scrolled": false
   },
   "outputs": [
    {
     "name": "stdout",
     "output_type": "stream",
     "text": [
      "Objective value = 290.0\n",
      "x[1,2]  =  1.0\n",
      "x[2,3]  =  1.0\n",
      "x[3,5]  =  1.0\n",
      "x[5,6]  =  1.0\n",
      "\n",
      "Problem solved in 1015520.000000 milliseconds\n",
      "Problem solved in 5 iterations\n",
      "Problem solved in 1 branch-and-bound nodes\n"
     ]
    }
   ],
   "source": [
    "if status == pywraplp.Solver.OPTIMAL:\n",
    "    print('Objective value =', solver.Objective().Value())\n",
    "    for i in Nodes:\n",
    "        for j in Nodes:\n",
    "            if x[i,j].solution_value() != 0:  # Just print the variables with non-zero value\n",
    "                print(x[i,j].name(), ' = ', x[i,j].solution_value())\n",
    "    print()\n",
    "    print('Problem solved in %f milliseconds' % solver.wall_time())\n",
    "    print('Problem solved in %d iterations' % solver.iterations())\n",
    "    print('Problem solved in %d branch-and-bound nodes' % solver.nodes())\n",
    "else:\n",
    "    print('The problem does not have an optimal solution.')"
   ]
  },
  {
   "cell_type": "markdown",
   "metadata": {},
   "source": [
    "### Complete programs\n",
    "Here are the complete programs."
   ]
  },
  {
   "cell_type": "code",
   "execution_count": 64,
   "metadata": {},
   "outputs": [
    {
     "name": "stdout",
     "output_type": "stream",
     "text": [
      "Number of variables = 36\n",
      "Number of constraints = 6\n",
      "Objective value = 290.0\n",
      "x[1,2]  =  1.0\n",
      "x[2,3]  =  1.0\n",
      "x[3,5]  =  1.0\n",
      "x[5,6]  =  1.0\n",
      "\n",
      "Problem solved in 7.000000 milliseconds\n",
      "Problem solved in 5 iterations\n",
      "Problem solved in 1 branch-and-bound nodes\n"
     ]
    }
   ],
   "source": [
    "from ortools.linear_solver import pywraplp\n",
    "\n",
    "def shortestpath():\n",
    "    Nodes = [i for i in range(1,7)]\n",
    "    m = 10e5  #we define a very large distance value for those nodes that dont have any link\n",
    "    Distance = [[m,100,200,m,m,m],\n",
    "                  [100,m,50,200,100,m],\n",
    "                  [200,50,m,m,40,m],\n",
    "                  [m,200,m,m,150,100],\n",
    "                  [m,100,40,150,m,100],\n",
    "                  [m,m,m,100,100,m]]\n",
    "\n",
    "    Balance = [-1,0,0,0,0,1]\n",
    "\n",
    "    # Create the mip solver with the SCIP backend.\n",
    "    solver = pywraplp.Solver.CreateSolver('SCIP')\n",
    "\n",
    "    x = {}\n",
    "    for i in Nodes:\n",
    "        for j in Nodes:\n",
    "            x[i,j] = solver.BoolVar(f'x[{i},{j}]')  #use BoolVar for binary (boolean) decision variables. Also IntVar(0,1) can be used instead.\n",
    "\n",
    "    print('Number of variables =', solver.NumVariables())\n",
    "\n",
    "    # Capacity of each arc:\n",
    "    # You can also define this constraint as an upper bound of each decision variable in previous step\n",
    "\n",
    "    # flow balance at each node:\n",
    "    for i in Nodes:\n",
    "        inflow = []\n",
    "        outflow = []\n",
    "        for j in Nodes:\n",
    "            inflow.append(x[j,i])\n",
    "            outflow.append(x[i,j])\n",
    "        solver.Add(sum(inflow) - sum(outflow)  == Balance[i-1])\n",
    "\n",
    "    print('Number of constraints =', solver.NumConstraints())\n",
    "\n",
    "    obj_expr = []\n",
    "    for i in Nodes:\n",
    "        for j in Nodes:\n",
    "            obj_expr.append(Distance[i-1][j-1] * x[i,j])\n",
    "    solver.Minimize(sum(obj_expr))\n",
    "\n",
    "    status = solver.Solve()\n",
    "\n",
    "    if status == pywraplp.Solver.OPTIMAL:\n",
    "        print('Objective value =', solver.Objective().Value())\n",
    "        for i in Nodes:\n",
    "            for j in Nodes:\n",
    "                if x[i,j].solution_value() != 0:  # Just print the variables with non-zero value\n",
    "                    print(x[i,j].name(), ' = ', x[i,j].solution_value())\n",
    "        print()\n",
    "        print('Problem solved in %f milliseconds' % solver.wall_time())\n",
    "        print('Problem solved in %d iterations' % solver.iterations())\n",
    "        print('Problem solved in %d branch-and-bound nodes' % solver.nodes())\n",
    "    else:\n",
    "        print('The problem does not have an optimal solution.')\n",
    "\n",
    "shortestpath()"
   ]
  },
  {
   "cell_type": "code",
   "execution_count": null,
   "metadata": {},
   "outputs": [],
   "source": []
  }
 ],
 "metadata": {
  "kernelspec": {
   "display_name": "Python 3",
   "language": "python",
   "name": "python3"
  },
  "language_info": {
   "codemirror_mode": {
    "name": "ipython",
    "version": 3
   },
   "file_extension": ".py",
   "mimetype": "text/x-python",
   "name": "python",
   "nbconvert_exporter": "python",
   "pygments_lexer": "ipython3",
   "version": "3.7.6"
  }
 },
 "nbformat": 4,
 "nbformat_minor": 4
}
